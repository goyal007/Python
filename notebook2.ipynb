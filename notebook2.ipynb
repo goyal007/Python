{
 "cells": [
  {
   "cell_type": "markdown",
   "metadata": {},
   "source": [
    "## python dates"
   ]
  },
  {
   "cell_type": "code",
   "execution_count": null,
   "metadata": {},
   "outputs": [],
   "source": [
    "'''Directive\tDescription\tExample\tTry it\n",
    "%a\tWeekday, short version\tWed\t\n",
    "%A\tWeekday, full version\tWednesday\t\n",
    "%w\tWeekday as a number 0-6, 0 is Sunday\t3\t\n",
    "%d\tDay of month 01-31\t31\t\n",
    "%b\tMonth name, short version\tDec\t\n",
    "%B\tMonth name, full version\tDecember\t\n",
    "%m\tMonth as a number 01-12\t12\t\n",
    "%y\tYear, short version, without century\t18\t\n",
    "%Y\tYear, full version\t2018\t\n",
    "%H\tHour 00-23\t17\t\n",
    "%I\tHour 00-12\t05\t\n",
    "%p\tAM/PM\tPM\t\n",
    "%M\tMinute 00-59\t41\t\n",
    "%S\tSecond 00-59\t08\t\n",
    "%f\tMicrosecond 000000-999999\t548513\t\n",
    "%z\tUTC offset\t+0100\t\n",
    "%Z\tTimezone\tCST\t\n",
    "%j\tDay number of year 001-366\t365\t\n",
    "%U\tWeek number of year, Sunday as the first day of week, 00-53\t52\t\n",
    "%W\tWeek number of year, Monday as the first day of week, 00-53\t52\t\n",
    "%c\tLocal version of date and time\tMon Dec 31 17:41:00 2018\t\n",
    "%x\tLocal version of date\t12/31/18\t\n",
    "%X\tLocal version of time\t17:41:00\t\n",
    "%%\tA % character\t%\t\n",
    "%G\tISO 8601 year\t2018\t\n",
    "%u\tISO 8601 weekday (1-7)\t1\t\n",
    "%V\tISO 8601 weeknumber (01-53)\t01'''"
   ]
  },
  {
   "cell_type": "code",
   "execution_count": null,
   "metadata": {},
   "outputs": [],
   "source": [
    "'''\n",
    "%a\tAbbreviated weekday name.\tSun, Mon, ...\n",
    "%A\tFull weekday name.\tSunday, Monday, ...\n",
    "%w\tWeekday as a decimal number.\t0, 1, ..., 6\n",
    "%d\tDay of the month as a zero-padded decimal.\t01, 02, ..., 31\n",
    "%-d\tDay of the month as a decimal number.\t1, 2, ..., 30\n",
    "%b\tAbbreviated month name.\tJan, Feb, ..., Dec\n",
    "%B\tFull month name.\tJanuary, February, ...\n",
    "%m\tMonth as a zero-padded decimal number.\t01, 02, ..., 12\n",
    "%-m\tMonth as a decimal number.\t1, 2, ..., 12\n",
    "%y\tYear without century as a zero-padded decimal number.\t00, 01, ..., 99\n",
    "%-y\tYear without century as a decimal number.\t0, 1, ..., 99\n",
    "%Y\tYear with century as a decimal number.\t2013, 2019 etc.\n",
    "%H\tHour (24-hour clock) as a zero-padded decimal number.\t00, 01, ..., 23\n",
    "%-H\tHour (24-hour clock) as a decimal number.\t0, 1, ..., 23\n",
    "%I\tHour (12-hour clock) as a zero-padded decimal number.\t01, 02, ..., 12\n",
    "%-I\tHour (12-hour clock) as a decimal number.\t1, 2, ... 12\n",
    "%p\tLocale’s AM or PM.\tAM, PM\n",
    "%M\tMinute as a zero-padded decimal number.\t00, 01, ..., 59\n",
    "%-M\tMinute as a decimal number.\t0, 1, ..., 59\n",
    "%S\tSecond as a zero-padded decimal number.\t00, 01, ..., 59\n",
    "%-S\tSecond as a decimal number.\t0, 1, ..., 59\n",
    "%f\tMicrosecond as a decimal number, zero-padded on the left.\t000000 - 999999\n",
    "%z\tUTC offset in the form +HHMM or -HHMM.\t \n",
    "%Z\tTime zone name.\t \n",
    "%j\tDay of the year as a zero-padded decimal number.\t001, 002, ..., 366\n",
    "%-j\tDay of the year as a decimal number.\t1, 2, ..., 366\n",
    "%U\tWeek number of the year (Sunday as the first day of the week). All days in a new year preceding the first Sunday are considered to be in week 0.\t00, 01, ..., 53\n",
    "%W\tWeek number of the year (Monday as the first day of the week). All days in a new year preceding the first Monday are considered to be in week 0.\t00, 01, ..., 53\n",
    "%c\tLocale’s appropriate date and time representation.\tMon Sep 30 07:06:05 2013\n",
    "%x\tLocale’s appropriate date representation.\t09/30/13\n",
    "%X\tLocale’s appropriate time representation.\t07:06:05\n",
    "%%\tA literal '%' character.\t%\n",
    "'''"
   ]
  },
  {
   "cell_type": "code",
   "execution_count": 2,
   "metadata": {},
   "outputs": [
    {
     "data": {
      "text/plain": [
       "['MAXYEAR',\n",
       " 'MINYEAR',\n",
       " '__builtins__',\n",
       " '__cached__',\n",
       " '__doc__',\n",
       " '__file__',\n",
       " '__loader__',\n",
       " '__name__',\n",
       " '__package__',\n",
       " '__spec__',\n",
       " 'date',\n",
       " 'datetime',\n",
       " 'datetime_CAPI',\n",
       " 'sys',\n",
       " 'time',\n",
       " 'timedelta',\n",
       " 'timezone',\n",
       " 'tzinfo']"
      ]
     },
     "execution_count": 2,
     "metadata": {},
     "output_type": "execute_result"
    }
   ],
   "source": [
    "import datetime\n",
    "dir(datetime)"
   ]
  },
  {
   "cell_type": "code",
   "execution_count": 40,
   "metadata": {},
   "outputs": [
    {
     "name": "stdout",
     "output_type": "stream",
     "text": [
      "2021-04-21\n",
      "2019-04-13\n",
      "Current year: 2021\n",
      "Current month: 4\n",
      "Current day: 21\n"
     ]
    }
   ],
   "source": [
    "from datetime import date\n",
    "\n",
    "print(date.today()) # Example 2: Get Current Date\n",
    "print(date(2019, 4, 13))\n",
    "\n",
    "today = date.today() \n",
    "\n",
    "print(\"Current year:\", today.year)\n",
    "print(\"Current month:\", today.month)\n",
    "print(\"Current day:\", today.day)"
   ]
  },
  {
   "cell_type": "code",
   "execution_count": 9,
   "metadata": {},
   "outputs": [
    {
     "name": "stdout",
     "output_type": "stream",
     "text": [
      "b = 11:34:56\n",
      "c = 11:34:56\n",
      "d = 11:34:56.234566\n",
      "hour = 11\n",
      "minute = 34\n",
      "second = 56\n",
      "microsecon  = 234566\n"
     ]
    }
   ],
   "source": [
    "from datetime import time\n",
    "\n",
    "'''# time(hour = 0, minute = 0, second = 0)\n",
    "a = time()\n",
    "print(\"a =\", a)'''\n",
    "\n",
    "# time(hour, minute and second)\n",
    "b = time(11, 34, 56)\n",
    "print(\"b =\", b)\n",
    "\n",
    "# time(hour, minute and second)\n",
    "c = time(hour = 11, minute = 34, second = 56)\n",
    "print(\"c =\", c)\n",
    "\n",
    "# time(hour, minute, second, microsecond)\n",
    "d = time(11, 34, 56, 234566)\n",
    "print(\"d =\", d)\n",
    "\n",
    "print(\"hour =\", d.hour)\n",
    "print(\"minute =\", d.minute)\n",
    "print(\"second =\", d.second)\n",
    "print(\"microsecon  =\", d.microsecond)"
   ]
  },
  {
   "cell_type": "code",
   "execution_count": 26,
   "metadata": {},
   "outputs": [
    {
     "name": "stdout",
     "output_type": "stream",
     "text": [
      "2021-04-24 19:18:46.397857\n",
      "2018-11-28 00:00:00\n",
      "2017-11-28 23:55:59.342380\n",
      "year = 2018\n",
      "month = 11\n",
      "hour = 0\n",
      "minute = 0\n",
      "timestamp = 1543343400.0\n"
     ]
    }
   ],
   "source": [
    "from datetime import datetime\n",
    "\n",
    "print(datetime.now()) #Example 1: Get Current Date and Time\n",
    "\n",
    "\n",
    "#datetime(year, month, day)\n",
    "a = datetime(2018, 11, 28)\n",
    "print(a)\n",
    "\n",
    "# datetime(year, month, day, hour, minute, second, microsecond)\n",
    "b = datetime(2017, 11, 28, 23, 55, 59, 342380)\n",
    "print(b)\n",
    "\n",
    "print(\"year =\", a.year)\n",
    "print(\"month =\", a.month)\n",
    "print(\"hour =\", a.hour)\n",
    "print(\"minute =\", a.minute)\n",
    "print(\"timestamp =\", a.timestamp())"
   ]
  },
  {
   "cell_type": "code",
   "execution_count": null,
   "metadata": {},
   "outputs": [],
   "source": [
    "## Python strftime()\n",
    "\n",
    "#The strftime() method returns a string representing date and time using date, time or datetime object."
   ]
  },
  {
   "cell_type": "code",
   "execution_count": 32,
   "metadata": {},
   "outputs": [
    {
     "name": "stdout",
     "output_type": "stream",
     "text": [
      "2021\n",
      "Saturday\n",
      "April\n",
      "Sat Apr 24 19:46:07 2021\n",
      "04/24/21\n",
      "19:46:07\n"
     ]
    }
   ],
   "source": [
    "x = datetime.now()\n",
    "\n",
    "print(x.year)\n",
    "#print(x.strftime(\"%U\"))\n",
    "print(x.strftime(\"%A\"))\n",
    "print(x.strftime(\"%B\"))\n",
    "print(x.strftime(\"%c\"))\n",
    "print(x.strftime(\"%x\"))\n",
    "print(x.strftime(\"%X\"))"
   ]
  },
  {
   "cell_type": "code",
   "execution_count": null,
   "metadata": {},
   "outputs": [],
   "source": [
    "#The strptime() method creates a datetime object from the given string."
   ]
  },
  {
   "cell_type": "code",
   "execution_count": null,
   "metadata": {},
   "outputs": [],
   "source": [
    "'''from datetime import datetime\n",
    "import pytz\n",
    "\n",
    "tz_NY = pytz.timezone('America/New_York') \n",
    "datetime_NY = datetime.now(tz_NY)\n",
    "print(\"NY time:\", datetime_NY.strftime(\"%H:%M:%S\"))\n",
    "\n",
    "tz_London = pytz.timezone('Europe/London')\n",
    "datetime_London = datetime.now(tz_London)\n",
    "print(\"London time:\", datetime_London.strftime(\"%H:%M:%S\"))'''"
   ]
  },
  {
   "cell_type": "code",
   "execution_count": null,
   "metadata": {},
   "outputs": [],
   "source": []
  },
  {
   "cell_type": "code",
   "execution_count": 33,
   "metadata": {},
   "outputs": [
    {
     "name": "stdout",
     "output_type": "stream",
     "text": [
      "This is printed immediately.\n",
      "This is printed after 2.4 seconds.\n"
     ]
    }
   ],
   "source": [
    "import time\n",
    "\n",
    "print(\"This is printed immediately.\")\n",
    "time.sleep(2.4)\n",
    "print(\"This is printed after 2.4 seconds.\")"
   ]
  },
  {
   "cell_type": "code",
   "execution_count": null,
   "metadata": {},
   "outputs": [],
   "source": []
  },
  {
   "cell_type": "markdown",
   "metadata": {},
   "source": [
    "## Math"
   ]
  },
  {
   "cell_type": "code",
   "execution_count": 21,
   "metadata": {},
   "outputs": [
    {
     "name": "stdout",
     "output_type": "stream",
     "text": [
      "1\n",
      "3\n",
      "2.3\n",
      "8\n"
     ]
    }
   ],
   "source": [
    "#some built in functions\n",
    "\n",
    "maximum=max(1,2,3)\n",
    "print(minimum)\n",
    "minimum=min(1,2,3)\n",
    "print(maximum)\n",
    "print(abs(-2.3))\n",
    "print(pow(2,3))"
   ]
  },
  {
   "cell_type": "code",
   "execution_count": 22,
   "metadata": {},
   "outputs": [],
   "source": [
    "import math"
   ]
  },
  {
   "cell_type": "code",
   "execution_count": 23,
   "metadata": {},
   "outputs": [
    {
     "data": {
      "text/plain": [
       "2.0"
      ]
     },
     "execution_count": 23,
     "metadata": {},
     "output_type": "execute_result"
    }
   ],
   "source": [
    "math.sqrt(4)"
   ]
  },
  {
   "cell_type": "code",
   "execution_count": 26,
   "metadata": {},
   "outputs": [
    {
     "data": {
      "text/plain": [
       "3"
      ]
     },
     "execution_count": 26,
     "metadata": {},
     "output_type": "execute_result"
    }
   ],
   "source": [
    "math.ceil(2.9)"
   ]
  },
  {
   "cell_type": "code",
   "execution_count": 27,
   "metadata": {},
   "outputs": [
    {
     "data": {
      "text/plain": [
       "2"
      ]
     },
     "execution_count": 27,
     "metadata": {},
     "output_type": "execute_result"
    }
   ],
   "source": [
    "math.floor(2.9)"
   ]
  },
  {
   "cell_type": "code",
   "execution_count": 28,
   "metadata": {},
   "outputs": [
    {
     "data": {
      "text/plain": [
       "3.141592653589793"
      ]
     },
     "execution_count": 28,
     "metadata": {},
     "output_type": "execute_result"
    }
   ],
   "source": [
    "math.pi"
   ]
  },
  {
   "cell_type": "markdown",
   "metadata": {},
   "source": [
    "## python Modules"
   ]
  },
  {
   "cell_type": "code",
   "execution_count": 6,
   "metadata": {},
   "outputs": [
    {
     "name": "stdout",
     "output_type": "stream",
     "text": [
      "Requirement already satisfied: import-ipynb in /Users/a0g02xo/opt/anaconda3/lib/python3.8/site-packages (0.1.3)\r\n"
     ]
    }
   ],
   "source": [
    "!pip install import-ipynb"
   ]
  },
  {
   "cell_type": "code",
   "execution_count": 12,
   "metadata": {},
   "outputs": [],
   "source": [
    "#A file containing a set of functions you want to include in your application.\n",
    "\n",
    "import customModule as CM"
   ]
  },
  {
   "cell_type": "code",
   "execution_count": 13,
   "metadata": {},
   "outputs": [
    {
     "name": "stdout",
     "output_type": "stream",
     "text": [
      "5\n"
     ]
    }
   ],
   "source": [
    "y=CM.add(2,3)\n",
    "print(y)"
   ]
  },
  {
   "cell_type": "code",
   "execution_count": 14,
   "metadata": {},
   "outputs": [],
   "source": [
    "name = CM.a"
   ]
  },
  {
   "cell_type": "code",
   "execution_count": 15,
   "metadata": {},
   "outputs": [
    {
     "name": "stdout",
     "output_type": "stream",
     "text": [
      "2\n"
     ]
    }
   ],
   "source": [
    "print(name)"
   ]
  },
  {
   "cell_type": "code",
   "execution_count": 16,
   "metadata": {},
   "outputs": [
    {
     "data": {
      "text/plain": [
       "['__builtins__',\n",
       " '__cached__',\n",
       " '__doc__',\n",
       " '__file__',\n",
       " '__loader__',\n",
       " '__name__',\n",
       " '__package__',\n",
       " '__spec__',\n",
       " 'a',\n",
       " 'add']"
      ]
     },
     "execution_count": 16,
     "metadata": {},
     "output_type": "execute_result"
    }
   ],
   "source": [
    "dir(CM)"
   ]
  },
  {
   "cell_type": "code",
   "execution_count": null,
   "metadata": {},
   "outputs": [],
   "source": []
  },
  {
   "cell_type": "code",
   "execution_count": null,
   "metadata": {},
   "outputs": [],
   "source": []
  },
  {
   "cell_type": "markdown",
   "metadata": {},
   "source": [
    "## File Handling"
   ]
  },
  {
   "cell_type": "code",
   "execution_count": 27,
   "metadata": {},
   "outputs": [
    {
     "name": "stdout",
     "output_type": "stream",
     "text": [
      "Writing tryy.txt\n"
     ]
    }
   ],
   "source": [
    "%%writefile tryy.txt\n",
    "ashish\n",
    "goyal"
   ]
  },
  {
   "cell_type": "code",
   "execution_count": null,
   "metadata": {},
   "outputs": [],
   "source": [
    "#The open() function takes two parameters; filename, and mode.\n",
    "\n",
    "'''\"r\" - Read - Default value. Opens a file for reading, error if the file does not exist\n",
    "\n",
    "\"a\" - Append - Opens a file for appending, creates the file if it does not exist\n",
    "\n",
    "\"w\" - Write - Opens a file for writing, creates the file if it does not exist\n",
    "\n",
    "\"x\" - Create - Creates the specified file, returns an error if the file exists'''"
   ]
  },
  {
   "cell_type": "code",
   "execution_count": 113,
   "metadata": {},
   "outputs": [],
   "source": [
    "#why close:\n",
    "#1. It can slow down your program. Too many things open, and thus more used space in the RAM, will impact performance\n",
    "#2. For the most part, many changes to files in python do not go into effect until after the file is closed, so if your script edits, leaves open, and reads a file, it won't see the edits."
   ]
  },
  {
   "cell_type": "code",
   "execution_count": null,
   "metadata": {},
   "outputs": [],
   "source": [
    "#read"
   ]
  },
  {
   "cell_type": "code",
   "execution_count": 120,
   "metadata": {},
   "outputs": [],
   "source": [
    "f = open(\"myfile.txt\",'r')"
   ]
  },
  {
   "cell_type": "code",
   "execution_count": 121,
   "metadata": {},
   "outputs": [
    {
     "data": {
      "text/plain": [
       "\"if f.closed:\\n    print( 'file is closed')\""
      ]
     },
     "execution_count": 121,
     "metadata": {},
     "output_type": "execute_result"
    }
   ],
   "source": [
    "'''if f.closed:\n",
    "    print( 'file is closed')'''"
   ]
  },
  {
   "cell_type": "code",
   "execution_count": 133,
   "metadata": {},
   "outputs": [],
   "source": [
    "lines = f.read()  #f.read(no_of_char)"
   ]
  },
  {
   "cell_type": "code",
   "execution_count": 134,
   "metadata": {},
   "outputs": [
    {
     "data": {
      "text/plain": [
       "'Ashish Goyal\\nWalmart Global Tech India\\n1 2 3 4extra line\\nextra lineline1\\nline2\\n'"
      ]
     },
     "execution_count": 134,
     "metadata": {},
     "output_type": "execute_result"
    }
   ],
   "source": [
    "lines"
   ]
  },
  {
   "cell_type": "code",
   "execution_count": 135,
   "metadata": {},
   "outputs": [
    {
     "data": {
      "text/plain": [
       "''"
      ]
     },
     "execution_count": 135,
     "metadata": {},
     "output_type": "execute_result"
    }
   ],
   "source": [
    "f.read()"
   ]
  },
  {
   "cell_type": "code",
   "execution_count": 131,
   "metadata": {},
   "outputs": [
    {
     "data": {
      "text/plain": [
       "79"
      ]
     },
     "execution_count": 131,
     "metadata": {},
     "output_type": "execute_result"
    }
   ],
   "source": [
    "f.tell()    # get the current file position"
   ]
  },
  {
   "cell_type": "code",
   "execution_count": 132,
   "metadata": {},
   "outputs": [
    {
     "data": {
      "text/plain": [
       "0"
      ]
     },
     "execution_count": 132,
     "metadata": {},
     "output_type": "execute_result"
    }
   ],
   "source": [
    "f.seek(0)   # bring file cursor to initial position\n"
   ]
  },
  {
   "cell_type": "code",
   "execution_count": 109,
   "metadata": {},
   "outputs": [
    {
     "name": "stdout",
     "output_type": "stream",
     "text": [
      "\n"
     ]
    }
   ],
   "source": [
    "print(f.readline())"
   ]
  },
  {
   "cell_type": "code",
   "execution_count": 110,
   "metadata": {},
   "outputs": [
    {
     "name": "stdout",
     "output_type": "stream",
     "text": [
      "[]\n"
     ]
    }
   ],
   "source": [
    "print(f.readlines())"
   ]
  },
  {
   "cell_type": "code",
   "execution_count": 111,
   "metadata": {},
   "outputs": [],
   "source": [
    "for x in f:\n",
    "    print(x)"
   ]
  },
  {
   "cell_type": "code",
   "execution_count": 119,
   "metadata": {},
   "outputs": [],
   "source": [
    "f.close()"
   ]
  },
  {
   "cell_type": "code",
   "execution_count": 104,
   "metadata": {},
   "outputs": [
    {
     "name": "stdout",
     "output_type": "stream",
     "text": [
      "Ashish Goyal\n",
      "Walmart Global Tech India\n",
      "1 2 3 4extra line\n",
      "extra lineline1\n",
      "line2\n",
      "\n",
      "file is closed\n"
     ]
    }
   ],
   "source": [
    "#We don't need to explicitly call the close() method. It is done internally.\n",
    "with open(\"myfile.txt\") as f:\n",
    "    print(f.read())\n",
    "if f.closed:\n",
    "    print( 'file is closed')"
   ]
  },
  {
   "cell_type": "code",
   "execution_count": null,
   "metadata": {},
   "outputs": [],
   "source": [
    "##write"
   ]
  },
  {
   "cell_type": "code",
   "execution_count": null,
   "metadata": {},
   "outputs": [],
   "source": [
    "'''\"a\" - Append - will append to the end of the file\n",
    "\n",
    "\"w\" - Write - will overwrite any existing content'''"
   ]
  },
  {
   "cell_type": "code",
   "execution_count": 70,
   "metadata": {},
   "outputs": [
    {
     "name": "stdout",
     "output_type": "stream",
     "text": [
      "Ashish Goyal\n",
      "Walmart Global Tech India\n",
      "1 2 3 4extra line\n",
      "extra line\n"
     ]
    }
   ],
   "source": [
    "f = open(\"myfile.txt\", \"a\")\n",
    "f.write(\"\\nextra line\")\n",
    "f.close()\n",
    "\n",
    "#open and read the file after the appending:\n",
    "f = open(\"myfile.txt\", \"r\")\n",
    "print(f.read())"
   ]
  },
  {
   "cell_type": "code",
   "execution_count": null,
   "metadata": {},
   "outputs": [],
   "source": [
    "'''\n",
    "Opening a file with \"w\" mode or \"a\" mode can only be written into \n",
    "and cannot be read from. \n",
    "Similarly \"r\" mode allows reading only and not writing. \n",
    "In order to perform simultaneous read/append operations, use \"a+\" mode.\n",
    "'''"
   ]
  },
  {
   "cell_type": "code",
   "execution_count": 100,
   "metadata": {},
   "outputs": [
    {
     "name": "stdout",
     "output_type": "stream",
     "text": [
      "Ashish Goyal\n",
      "Walmart Global Tech India\n",
      "1 2 3 4extra line\n",
      "extra line\n",
      "Ashish Goyal\n",
      "Walmart Global Tech India\n",
      "1 2 3 4extra line\n",
      "extra lineline1\n",
      "line2\n",
      "\n"
     ]
    }
   ],
   "source": [
    "f = open(\"myfile.txt\", \"r\")\n",
    "print(f.read())\n",
    "f.close()\n",
    "\n",
    "f = open(\"myfile.txt\", \"a\")\n",
    "lines=[\"line1\\n\",\"line2\\n\"]\n",
    "\n",
    "f.writelines(lines)\n",
    "f.close()\n",
    "\n",
    "f = open(\"myfile.txt\", \"r\")\n",
    "print(f.read())\n",
    "f.close()\n"
   ]
  },
  {
   "cell_type": "code",
   "execution_count": 73,
   "metadata": {},
   "outputs": [
    {
     "name": "stdout",
     "output_type": "stream",
     "text": [
      "new content\n"
     ]
    }
   ],
   "source": [
    "f = open(\"myfile2.txt\", \"w\")\n",
    "f.write(\"new content\")\n",
    "f.close()\n",
    "\n",
    "#open and read the file after the appending:\n",
    "f = open(\"myfile2.txt\", \"r\")\n",
    "print(f.read())"
   ]
  },
  {
   "cell_type": "code",
   "execution_count": 74,
   "metadata": {},
   "outputs": [],
   "source": [
    "#create"
   ]
  },
  {
   "cell_type": "code",
   "execution_count": 75,
   "metadata": {},
   "outputs": [
    {
     "data": {
      "text/plain": [
       "'\\n\"x\" - Create - will create a file, returns an error if the file exist\\n\\n\"a\" - Append - will create a file if the specified file does not exist\\n\\n\"w\" - Write - will create a file if the specified file does not exist\\n'"
      ]
     },
     "execution_count": 75,
     "metadata": {},
     "output_type": "execute_result"
    }
   ],
   "source": [
    "'''\n",
    "\"x\" - Create - will create a file, returns an error if the file exist\n",
    "\n",
    "\"a\" - Append - will create a file if the specified file does not exist\n",
    "\n",
    "\"w\" - Write - will create a file if the specified file does not exist\n",
    "'''"
   ]
  },
  {
   "cell_type": "code",
   "execution_count": 77,
   "metadata": {},
   "outputs": [
    {
     "ename": "FileExistsError",
     "evalue": "[Errno 17] File exists: 'file1.txt'",
     "output_type": "error",
     "traceback": [
      "\u001b[0;31m---------------------------------------------------------------------------\u001b[0m",
      "\u001b[0;31mFileExistsError\u001b[0m                           Traceback (most recent call last)",
      "\u001b[0;32m<ipython-input-77-600438edbfe7>\u001b[0m in \u001b[0;36m<module>\u001b[0;34m\u001b[0m\n\u001b[0;32m----> 1\u001b[0;31m \u001b[0mf\u001b[0m \u001b[0;34m=\u001b[0m \u001b[0mopen\u001b[0m\u001b[0;34m(\u001b[0m\u001b[0;34m\"file1.txt\"\u001b[0m\u001b[0;34m,\u001b[0m \u001b[0;34m\"x\"\u001b[0m\u001b[0;34m)\u001b[0m\u001b[0;34m\u001b[0m\u001b[0;34m\u001b[0m\u001b[0m\n\u001b[0m",
      "\u001b[0;31mFileExistsError\u001b[0m: [Errno 17] File exists: 'file1.txt'"
     ]
    }
   ],
   "source": [
    "f = open(\"file1.txt\", \"x\")"
   ]
  },
  {
   "cell_type": "code",
   "execution_count": 82,
   "metadata": {},
   "outputs": [],
   "source": [
    "f = open(\"file1.txt\", \"w\")\n"
   ]
  },
  {
   "cell_type": "code",
   "execution_count": 83,
   "metadata": {},
   "outputs": [],
   "source": [
    "#To delete a file, you must import the OS module, and run its os.remove() function:"
   ]
  },
  {
   "cell_type": "code",
   "execution_count": 84,
   "metadata": {},
   "outputs": [],
   "source": [
    "import os\n",
    "os.remove(\"file1.txt\")"
   ]
  },
  {
   "cell_type": "code",
   "execution_count": 85,
   "metadata": {},
   "outputs": [
    {
     "name": "stdout",
     "output_type": "stream",
     "text": [
      "The file does not exist\n"
     ]
    }
   ],
   "source": [
    "import os\n",
    "if os.path.exists(\"file1.txt\"):\n",
    "    os.remove(\"file1.txt\")\n",
    "else:\n",
    "    print(\"The file does not exist\")"
   ]
  },
  {
   "cell_type": "code",
   "execution_count": null,
   "metadata": {},
   "outputs": [],
   "source": []
  },
  {
   "cell_type": "code",
   "execution_count": null,
   "metadata": {},
   "outputs": [],
   "source": []
  },
  {
   "cell_type": "markdown",
   "metadata": {},
   "source": [
    "## Exceptional handling"
   ]
  },
  {
   "cell_type": "code",
   "execution_count": 136,
   "metadata": {},
   "outputs": [
    {
     "data": {
      "text/plain": [
       "'A python program terminates as soon as it encounters an unhandled error. These errors can be broadly classified into two classes:\\n\\nSyntax errors if a<3 \\n                ksmldns (no semicolon)\\nLogical errors (Exceptions)'"
      ]
     },
     "execution_count": 136,
     "metadata": {},
     "output_type": "execute_result"
    }
   ],
   "source": [
    "'''A python program terminates as soon as it encounters an unhandled error. These errors can be broadly classified into two classes:\n",
    "\n",
    "Syntax errors if a<3 \n",
    "                ksmldns (no semicolon)\n",
    "Logical errors (Exceptions)'''"
   ]
  },
  {
   "cell_type": "code",
   "execution_count": null,
   "metadata": {},
   "outputs": [],
   "source": [
    "'''\n",
    "The try block lets you test a block of code for errors.\n",
    "The except block lets you handle the error.\n",
    "The finally block lets you execute code, regardless of the result of the try- and except blocks.\n",
    "'''"
   ]
  },
  {
   "cell_type": "code",
   "execution_count": null,
   "metadata": {},
   "outputs": [],
   "source": [
    "#catch exceptions"
   ]
  },
  {
   "cell_type": "code",
   "execution_count": 144,
   "metadata": {},
   "outputs": [
    {
     "name": "stdout",
     "output_type": "stream",
     "text": [
      "Value =  1\n",
      "reciprocal 1 is 1.0\n",
      "\n",
      "Value =  0\n",
      "Error: <class 'ZeroDivisionError'> occurred.\n",
      "\n",
      "Value =  text\n",
      "Error: <class 'ValueError'> occurred.\n",
      "\n",
      "Value =  4\n",
      "reciprocal 4 is 0.25\n",
      "\n"
     ]
    }
   ],
   "source": [
    "# import module sys to get the type of exception\n",
    "import sys\n",
    "\n",
    "lis = [1, 0, 'text',4]\n",
    "\n",
    "for i in lis:\n",
    "    try:\n",
    "        print(\"Value = \", i)\n",
    "        out = 1/int(i)\n",
    "        print(\"reciprocal\", i, \"is\", out)\n",
    "        print()\n",
    "        #break\n",
    "    except:\n",
    "        print(\"Error:\", sys.exc_info()[0], \"occurred.\")\n",
    "        print()\n"
   ]
  },
  {
   "cell_type": "code",
   "execution_count": 151,
   "metadata": {},
   "outputs": [
    {
     "name": "stdout",
     "output_type": "stream",
     "text": [
      "Value =  1\n",
      "reciprocal 1 is 1.0\n",
      "\n",
      "Value =  0\n",
      "i= 0  Error: <class 'ZeroDivisionError'> occurred.\n",
      "\n",
      "Value =  text\n",
      "i= text  Error: <class 'ValueError'> occurred.\n",
      "\n",
      "Value =  4\n",
      "reciprocal 4 is 0.25\n",
      "\n"
     ]
    }
   ],
   "source": [
    "# import module sys to get the type of exception\n",
    "import sys\n",
    "\n",
    "lis = [1, 0, 'text',4]\n",
    "\n",
    "for i in lis:\n",
    "    try:\n",
    "        print(\"Value = \", i)\n",
    "        out = 1/int(i)\n",
    "        print(\"reciprocal\", i, \"is\", out)\n",
    "        print()\n",
    "        #break\n",
    "    except Exception as e:\n",
    "        print(\"i=\",i,\" Error:\", e.__class__, \"occurred.\")\n",
    "        print()"
   ]
  },
  {
   "cell_type": "code",
   "execution_count": 146,
   "metadata": {},
   "outputs": [],
   "source": [
    "#catch specific exceptions"
   ]
  },
  {
   "cell_type": "code",
   "execution_count": 164,
   "metadata": {},
   "outputs": [
    {
     "name": "stdout",
     "output_type": "stream",
     "text": [
      "reciprocal 1 is 1.0\n",
      "\n",
      "i=  1  3\n",
      "i=  0  2\n",
      "i=  text  1\n",
      "reciprocal 4 is 0.25\n",
      "\n",
      "i=  4  3\n"
     ]
    }
   ],
   "source": [
    "lis = [1, 0, 'text',4]\n",
    "for i in lis:\n",
    "    try:\n",
    "        out = 1/int(i)\n",
    "        print(\"reciprocal\", i, \"is\", out)\n",
    "        print()\n",
    "        #open('a.txt','r')\n",
    "    except ValueError:\n",
    "        print(\"i= \",i,' 1')\n",
    "\n",
    "    except (TypeError, ZeroDivisionError):\n",
    "       # handle multiple exceptions\n",
    "       # TypeError and ZeroDivisionError\n",
    "        print(\"i= \",i,' 2')\n",
    "    except:\n",
    "       # handle all other exceptions\n",
    "        print(\"i= \",i,' 3')\n"
   ]
  },
  {
   "cell_type": "code",
   "execution_count": null,
   "metadata": {},
   "outputs": [],
   "source": [
    "#raise exception manually"
   ]
  },
  {
   "cell_type": "code",
   "execution_count": 166,
   "metadata": {},
   "outputs": [
    {
     "name": "stdout",
     "output_type": "stream",
     "text": [
      "Enter a positive integer: -1\n",
      "That is not a positive number!\n"
     ]
    }
   ],
   "source": [
    "try:\n",
    "    a = int(input(\"Enter a positive integer: \"))\n",
    "    if a <= 0:\n",
    "        raise ValueError(\"That is not a positive number!\")\n",
    "except ValueError as ve:\n",
    "    print(ve)"
   ]
  },
  {
   "cell_type": "code",
   "execution_count": null,
   "metadata": {},
   "outputs": [],
   "source": [
    "#finally: This clause is executed no matter what, and is generally used to release external resources."
   ]
  },
  {
   "cell_type": "code",
   "execution_count": 172,
   "metadata": {},
   "outputs": [
    {
     "name": "stdout",
     "output_type": "stream",
     "text": [
      "Something went wrong when writing to the file\n"
     ]
    }
   ],
   "source": [
    "#The try block will raise an error when trying to write to a read-only file:\n",
    "\n",
    "try:\n",
    "    f = open(\"my.txt\")\n",
    "    #f.write(\"Lorum Ipsum\")\n",
    "except:\n",
    "    print(\"Something went wrong when writing to the file\")\n",
    "finally:\n",
    "    f.close()\n",
    "\n",
    "#The program can continue, without leaving the file object open"
   ]
  },
  {
   "cell_type": "markdown",
   "metadata": {},
   "source": [
    "## Regex"
   ]
  },
  {
   "cell_type": "code",
   "execution_count": 1,
   "metadata": {},
   "outputs": [],
   "source": [
    "#A Regular Expression (RegEx) is a sequence of characters that \n",
    "#defines a search pattern"
   ]
  },
  {
   "cell_type": "code",
   "execution_count": null,
   "metadata": {},
   "outputs": [],
   "source": [
    "'''\n",
    "Metacharacters are characters that are interpreted in a special way by a RegEx engine. Here's a list of metacharacters:\n",
    "\n",
    "[] . ^ $ * + ? {} () \\ |\n",
    "\n",
    "\n",
    "'''"
   ]
  },
  {
   "cell_type": "code",
   "execution_count": null,
   "metadata": {},
   "outputs": [],
   "source": [
    "'''\n",
    "1. []->Square brackets specifies a set of characters you wish to match.\n",
    "can also use range [0-4] => [01234] if these 5 are present or not\n",
    "[^abc] -> any character accept a,b,c\n",
    "\n",
    "2. . -> A period matches any single character (except newline '\\n').\n",
    "    .. -> ab, 1h\n",
    "3. The caret symbol ^ is used to check if a string starts with a certain character.\n",
    "   ^ab -> cab\n",
    "4. The dollar symbol $ is used to check if a string ends with a certain character.\n",
    "    a$ -> hakuna\n",
    "    \n",
    "5. The star symbol * matches zero or more occurrences of the pattern left to it.\n",
    "    ma*n -> mn, maaaan\n",
    "    \n",
    "6. The plus symbol + matches one or more occurrences of the pattern left to it.\n",
    "    ma+n -> maaan\n",
    "    \n",
    "7.The question mark symbol ? matches zero or one occurrence of the pattern left to it.\n",
    "    ma?n -> mn, man\n",
    "8. Consider this code: {n,m}. This means at least n, and at most m repetitions of the pattern left to it.\n",
    "    a{2,3} -> aabc daaat\t2 matches\n",
    "    \n",
    "9. Vertical bar | is used for alternation (or operator).\n",
    "    a|b -> ade, cbe etc\n",
    "\n",
    "10. Parentheses () is used to group sub-patterns. For example, (a|b|c)xz match any string that matches either a or b or c followed by xz\n",
    "    (a|b|c)xz\tabxz\n",
    "\n",
    "11. Backlash \\ is used to escape various characters including all metacharacters\n",
    "    \\$a match if a string contains $ followed by a. Here, $ is not interpreted by a RegEx engine in a special way.\n",
    "\n",
    "https://regex101.com/\n",
    "\n",
    "Special sequences make commonly used patterns easier to write. Here's a list of special sequences:\n",
    "\n",
    "\\A - Matches if the specified characters are at the start of a string.\n",
    "    \\Athe\t\n",
    "\\b - Matches if the specified characters are at the beginning or end of a word.\n",
    "    \\bfoo\t\n",
    "    foo\\b\t\n",
    "\\B - Opposite of \\b. Matches if the specified characters are not at the beginning or end of a word.\n",
    "\\d - Matches any decimal digit. Equivalent to [0-9]\n",
    "\\D - Matches any non-decimal digit. Equivalent to [^0-9]\n",
    "\\s - Matches where a string contains any whitespace character. Equivalent to [ \\t\\n\\r\\f\\v].\n",
    "\\S - Matches where a string contains any non-whitespace character. Equivalent to [^ \\t\\n\\r\\f\\v].\n",
    "\\w - Matches any alphanumeric character (digits and alphabets). Equivalent to [a-zA-Z0-9_]. By the way, underscore _ is also considered an alphanumeric character.\n",
    "\\W - Matches any non-alphanumeric character. Equivalent to [^a-zA-Z0-9_]\n",
    "\\Z - Matches if the specified characters are at the end of a string.\n",
    "    Python\\Z\t\n",
    "'''"
   ]
  },
  {
   "cell_type": "code",
   "execution_count": 3,
   "metadata": {},
   "outputs": [],
   "source": [
    "import re"
   ]
  },
  {
   "cell_type": "code",
   "execution_count": 25,
   "metadata": {},
   "outputs": [
    {
     "name": "stdout",
     "output_type": "stream",
     "text": [
      "['12', '89', '34']\n"
     ]
    }
   ],
   "source": [
    "#1. The re.findall() method returns a list of strings containing all matches.\n",
    "string = 'hello 12 hi 89. Howdy 34'\n",
    "pattern = '\\d+'\n",
    "\n",
    "result = re.findall(pattern, string) \n",
    "print(result)"
   ]
  },
  {
   "cell_type": "code",
   "execution_count": 6,
   "metadata": {},
   "outputs": [
    {
     "name": "stdout",
     "output_type": "stream",
     "text": [
      "['Twelve:', ' Eighty nine:', '.']\n",
      "['Twelve:', ' Eighty nine:89.']\n"
     ]
    }
   ],
   "source": [
    "#2. The re.split method splits the string where there is a match and returns a list of strings where the splits have occurred.\n",
    "\n",
    "string = 'Twelve:12 Eighty nine:89.'\n",
    "pattern = '\\d+'\n",
    "\n",
    "result = re.split(pattern, string) \n",
    "print(result)\n",
    "\n",
    "# maxsplit = 1\n",
    "# split only at the first occurrence\n",
    "result = re.split(pattern, string, 1) \n",
    "print(result)"
   ]
  },
  {
   "cell_type": "code",
   "execution_count": 10,
   "metadata": {},
   "outputs": [
    {
     "name": "stdout",
     "output_type": "stream",
     "text": [
      "abc12de23f456\n",
      "abc12de23f45 6\n"
     ]
    }
   ],
   "source": [
    "#3 re.sub() The method returns a string where matched occurrences are replaced with the content of replace variable.\n",
    "# Program to remove all whitespaces\n",
    "# multiline string\n",
    "string = 'abc 12\\\n",
    "de 23 \\n f45 6'\n",
    "\n",
    "# matches all whitespace characters\n",
    "pattern = '\\s+'\n",
    "\n",
    "# empty string\n",
    "replace = ''\n",
    "\n",
    "new_string = re.sub(pattern, replace, string) \n",
    "print(new_string)\n",
    "\n",
    "# Output: abc12de23f456\n",
    "\n",
    "\n",
    "#You can pass count as a fourth parameter to the re.sub() method. If omited, it results to 0. This will replace all occurrences.\n",
    "new_string = re.sub(r'\\s+', replace, string, 3) \n",
    "print(new_string)\n"
   ]
  },
  {
   "cell_type": "code",
   "execution_count": 12,
   "metadata": {},
   "outputs": [
    {
     "name": "stdout",
     "output_type": "stream",
     "text": [
      "A11111\n"
     ]
    }
   ],
   "source": [
    "stri=\"Ashish\"\n",
    "\n",
    "out = re.sub('[a-z]',\"1\",stri)\n",
    "print(out)"
   ]
  },
  {
   "cell_type": "code",
   "execution_count": 13,
   "metadata": {},
   "outputs": [
    {
     "name": "stdout",
     "output_type": "stream",
     "text": [
      "('abc12de23f456', 4)\n"
     ]
    }
   ],
   "source": [
    "#4. re.subn() is similar to re.sub() expect it returns a tuple of 2 items containing the new string and the number of substitutions made.\n",
    "\n",
    "new_string = re.subn(pattern, replace, string) \n",
    "print(new_string)\n"
   ]
  },
  {
   "cell_type": "code",
   "execution_count": 22,
   "metadata": {},
   "outputs": [
    {
     "name": "stdout",
     "output_type": "stream",
     "text": [
      "<class 're.Match'>\n",
      "pattern found inside the string\n",
      "0\n",
      "(0, 6)\n",
      "Python is fun\n",
      "Python\n",
      "0\n",
      "6\n"
     ]
    }
   ],
   "source": [
    "#5. The re.search() method takes two arguments: a pattern and a string. The method looks for the first location where the RegEx pattern produces a match with the string.\n",
    "\n",
    "string = \"Python is fun\"\n",
    "\n",
    "# check if 'Python' is at the beginning\n",
    "match = re.search('\\APython', string)\n",
    "print(type(match))\n",
    "if match:\n",
    "    print(\"pattern found inside the string\")\n",
    "    print(match.start())\n",
    "    x=match\n",
    "    print(x.span())\n",
    "    print(x.string)\n",
    "    print(x.group())\n",
    "    print(x.start())\n",
    "    print(x.end())\n",
    "else:\n",
    "    print(\"pattern not found\")  \n",
    "\n",
    "# Output: pattern found inside the string\n",
    "\n",
    "\n"
   ]
  },
  {
   "cell_type": "code",
   "execution_count": 20,
   "metadata": {},
   "outputs": [
    {
     "name": "stdout",
     "output_type": "stream",
     "text": [
      "(12, 17)\n",
      "The rain in Spain\n",
      "Spain\n",
      "12\n",
      "17\n"
     ]
    }
   ],
   "source": [
    "txt = \"The rain in Spain\"\n",
    "x = re.search(r\"\\bS\\w+\", txt)\n",
    "print(x.span())\n",
    "print(x.string)\n",
    "print(x.group())\n",
    "print(x.start())\n",
    "print(x.end())\n"
   ]
  },
  {
   "cell_type": "code",
   "execution_count": null,
   "metadata": {},
   "outputs": [],
   "source": [
    "'''The Match object has properties and methods used to retrieve information about the search, and the result:\n",
    "\n",
    ".span() returns a tuple containing the start-, and end positions of the match.\n",
    ".string returns the string passed into the function\n",
    ".group() returns the part of the string where there was a match'''"
   ]
  },
  {
   "cell_type": "code",
   "execution_count": 23,
   "metadata": {},
   "outputs": [
    {
     "data": {
      "text/plain": [
       "[(0, 2), (3, 5), (6, 8), (11, 13)]"
      ]
     },
     "execution_count": 23,
     "metadata": {},
     "output_type": "execute_result"
    }
   ],
   "source": [
    "#Find the indexes of all regex matches?\n",
    "pattern='am'\n",
    "string='am am am i am'\n",
    "\n",
    "[(m.start(0), m.end(0)) for m in re.finditer(pattern, string)]\n"
   ]
  },
  {
   "cell_type": "code",
   "execution_count": null,
   "metadata": {},
   "outputs": [],
   "source": [
    "'''\n",
    "When r or R prefix is used before a regular expression, it means raw string. For example, '\\n' is a new line whereas r'\\n' means two characters: a backslash \\ followed by n.\n",
    "\n",
    "Backlash \\ is used to escape various characters including all metacharacters. However, using r prefix makes \\ treat as a normal character.\n",
    "'''"
   ]
  },
  {
   "cell_type": "code",
   "execution_count": 15,
   "metadata": {},
   "outputs": [
    {
     "name": "stdout",
     "output_type": "stream",
     "text": [
      "['\\n', '\\r']\n"
     ]
    }
   ],
   "source": [
    "string = '\\n and \\r are escape sequences.'\n",
    "\n",
    "result = re.findall(r'[\\n\\r]', string) \n",
    "print(result)"
   ]
  }
 ],
 "metadata": {
  "kernelspec": {
   "display_name": "Python 3",
   "language": "python",
   "name": "python3"
  },
  "language_info": {
   "codemirror_mode": {
    "name": "ipython",
    "version": 3
   },
   "file_extension": ".py",
   "mimetype": "text/x-python",
   "name": "python",
   "nbconvert_exporter": "python",
   "pygments_lexer": "ipython3",
   "version": "3.8.8"
  }
 },
 "nbformat": 4,
 "nbformat_minor": 4
}
