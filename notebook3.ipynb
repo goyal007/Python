{
 "cells": [
  {
   "cell_type": "markdown",
   "id": "8a3f345c",
   "metadata": {},
   "source": [
    "# 1. Python Iterators"
   ]
  },
  {
   "cell_type": "markdown",
   "id": "ac790eef",
   "metadata": {},
   "source": [
    "A Python iterator object must implement two special methods, __iter__() and __next__(), collectively called the iterator protocol.\n",
    "\n",
    "An object is called iterable if we can get an iterator from it. Most built-in containers in Python like: list, tuple, string etc. are iterables.\n",
    "\n",
    "The iter() function (which in turn calls the __iter__() method) returns an iterator from them."
   ]
  },
  {
   "cell_type": "code",
   "execution_count": 1,
   "id": "fa11181f",
   "metadata": {},
   "outputs": [
    {
     "name": "stdout",
     "output_type": "stream",
     "text": [
      "4\n",
      "7\n",
      "0\n",
      "3\n"
     ]
    },
    {
     "ename": "StopIteration",
     "evalue": "",
     "output_type": "error",
     "traceback": [
      "\u001b[0;31m---------------------------------------------------------------------------\u001b[0m",
      "\u001b[0;31mStopIteration\u001b[0m                             Traceback (most recent call last)",
      "\u001b[0;32m<ipython-input-1-a4525c6df5c8>\u001b[0m in \u001b[0;36m<module>\u001b[0;34m\u001b[0m\n\u001b[1;32m      9\u001b[0m \u001b[0mprint\u001b[0m\u001b[0;34m(\u001b[0m\u001b[0mmy_iter\u001b[0m\u001b[0;34m.\u001b[0m\u001b[0m__next__\u001b[0m\u001b[0;34m(\u001b[0m\u001b[0;34m)\u001b[0m\u001b[0;34m)\u001b[0m\u001b[0;34m\u001b[0m\u001b[0;34m\u001b[0m\u001b[0m\n\u001b[1;32m     10\u001b[0m \u001b[0mprint\u001b[0m\u001b[0;34m(\u001b[0m\u001b[0mmy_iter\u001b[0m\u001b[0;34m.\u001b[0m\u001b[0m__next__\u001b[0m\u001b[0;34m(\u001b[0m\u001b[0;34m)\u001b[0m\u001b[0;34m)\u001b[0m\u001b[0;34m\u001b[0m\u001b[0;34m\u001b[0m\u001b[0m\n\u001b[0;32m---> 11\u001b[0;31m \u001b[0mnext\u001b[0m\u001b[0;34m(\u001b[0m\u001b[0mmy_iter\u001b[0m\u001b[0;34m)\u001b[0m\u001b[0;34m\u001b[0m\u001b[0;34m\u001b[0m\u001b[0m\n\u001b[0m",
      "\u001b[0;31mStopIteration\u001b[0m: "
     ]
    }
   ],
   "source": [
    "my_list = [4, 7, 0, 3]\n",
    "# get an iterator using iter()\n",
    "my_iter = iter(my_list)\n",
    "\n",
    "# iterate through it using next()\n",
    "print(next(my_iter))\n",
    "print(next(my_iter))\n",
    "# next(obj) is same as obj.__next__()\n",
    "print(my_iter.__next__())\n",
    "print(my_iter.__next__())\n",
    "next(my_iter)"
   ]
  },
  {
   "cell_type": "code",
   "execution_count": 54,
   "id": "63b3f266",
   "metadata": {},
   "outputs": [
    {
     "ename": "NameError",
     "evalue": "name 'iterable' is not defined",
     "output_type": "error",
     "traceback": [
      "\u001b[0;31m---------------------------------------------------------------------------\u001b[0m",
      "\u001b[0;31mNameError\u001b[0m                                 Traceback (most recent call last)",
      "\u001b[0;32m<ipython-input-54-dcba8002e038>\u001b[0m in \u001b[0;36m<module>\u001b[0;34m\u001b[0m\n\u001b[1;32m      2\u001b[0m \u001b[0;34m\u001b[0m\u001b[0m\n\u001b[1;32m      3\u001b[0m \u001b[0;31m#create an iterator object from that iterable\u001b[0m\u001b[0;34m\u001b[0m\u001b[0;34m\u001b[0m\u001b[0;34m\u001b[0m\u001b[0m\n\u001b[0;32m----> 4\u001b[0;31m \u001b[0miter_obj\u001b[0m \u001b[0;34m=\u001b[0m \u001b[0miter\u001b[0m\u001b[0;34m(\u001b[0m\u001b[0miterable\u001b[0m\u001b[0;34m)\u001b[0m\u001b[0;34m\u001b[0m\u001b[0;34m\u001b[0m\u001b[0m\n\u001b[0m\u001b[1;32m      5\u001b[0m \u001b[0;34m\u001b[0m\u001b[0m\n\u001b[1;32m      6\u001b[0m \u001b[0;31m#infinite loop\u001b[0m\u001b[0;34m\u001b[0m\u001b[0;34m\u001b[0m\u001b[0;34m\u001b[0m\u001b[0m\n",
      "\u001b[0;31mNameError\u001b[0m: name 'iterable' is not defined"
     ]
    }
   ],
   "source": [
    "'''#for loop internally\n",
    "\n",
    "#create an iterator object from that iterable\n",
    "iter_obj = iter(iterable)\n",
    "\n",
    "#infinite loop\n",
    "while True:\n",
    "    try:\n",
    "        # get the next item\n",
    "        element = next(iter_obj)\n",
    "        # do something with element\n",
    "    except StopIteration:\n",
    "        # if StopIteration is raised, break from loop\n",
    "        break'''"
   ]
  },
  {
   "cell_type": "markdown",
   "id": "947be787",
   "metadata": {},
   "source": [
    "Building Custom Iterators\n",
    "Building an iterator from scratch is easy in Python. We just have to implement the __iter__() and the __next__() methods.\n",
    "\n",
    "The __iter__() method returns the iterator object itself. If required, some initialization can be performed.\n",
    "\n",
    "The __next__() method must return the next item in the sequence. On reaching the end, and in subsequent calls, it must raise StopIt"
   ]
  },
  {
   "cell_type": "code",
   "execution_count": 8,
   "id": "547063ec",
   "metadata": {},
   "outputs": [
    {
     "name": "stdout",
     "output_type": "stream",
     "text": [
      "1\n",
      "2\n",
      "4\n",
      "8\n",
      "Ending is here\n"
     ]
    }
   ],
   "source": [
    "class PowTwo:\n",
    "    \"\"\"Class to implement an iterator\n",
    "    of powers of two\"\"\"\n",
    "\n",
    "    def __init__(self, max=0):\n",
    "        self.max = max\n",
    "\n",
    "    def __iter__(self):\n",
    "        self.n = 0\n",
    "        return self\n",
    "\n",
    "    def __next__(self):\n",
    "        if self.n <= self.max:\n",
    "            result = 2 ** self.n\n",
    "            self.n += 1\n",
    "            return result\n",
    "        else:\n",
    "            raise StopIteration\n",
    "\n",
    "\n",
    "# create an object\n",
    "numbers = PowTwo(3)\n",
    "\n",
    "# create an iterable from the object\n",
    "#i = iter(numbers)\n",
    "i= numbers.__iter__()\n",
    "\n",
    "# Using next to get to the next iterator element\n",
    "try:\n",
    "    print(next(i))\n",
    "    print(i.__next__())\n",
    "    #print(next(i))\n",
    "    print(next(i))\n",
    "    print(next(i))\n",
    "    print(next(i))\n",
    "except:\n",
    "    print(\"Ending is here\")"
   ]
  },
  {
   "cell_type": "code",
   "execution_count": 9,
   "id": "9d2eb36e",
   "metadata": {},
   "outputs": [],
   "source": [
    "class InfIter:\n",
    "    \"\"\"Infinite iterator to return all\n",
    "        odd numbers\"\"\"\n",
    "\n",
    "    def __iter__(self):\n",
    "        self.num = 1\n",
    "        return self\n",
    "\n",
    "    def __next__(self):\n",
    "        num = self.num\n",
    "        self.num += 2\n",
    "        return num"
   ]
  },
  {
   "cell_type": "code",
   "execution_count": 11,
   "id": "cd95320a",
   "metadata": {},
   "outputs": [
    {
     "name": "stdout",
     "output_type": "stream",
     "text": [
      "1\n",
      "3\n",
      "5\n",
      "7\n"
     ]
    }
   ],
   "source": [
    "a = iter(InfIter())\n",
    "print(next(a))\n",
    "print(next(a))\n",
    "print(next(a))\n",
    "print(next(a))"
   ]
  },
  {
   "cell_type": "markdown",
   "id": "9ba5f00c",
   "metadata": {},
   "source": [
    "### The advantage of using iterators is that they save resources. Like shown above, we could get all the odd numbers without storing the entire number system in memory. We can have infinite items (theoretically) in finite memory."
   ]
  },
  {
   "cell_type": "code",
   "execution_count": null,
   "id": "9123d160",
   "metadata": {},
   "outputs": [],
   "source": []
  },
  {
   "cell_type": "code",
   "execution_count": null,
   "id": "00563a62",
   "metadata": {},
   "outputs": [],
   "source": [
    "################################################################a"
   ]
  },
  {
   "cell_type": "code",
   "execution_count": null,
   "id": "5eb1bd23",
   "metadata": {},
   "outputs": [],
   "source": []
  },
  {
   "cell_type": "markdown",
   "id": "2c7b2617",
   "metadata": {},
   "source": [
    "# 2. Python Generators"
   ]
  },
  {
   "cell_type": "code",
   "execution_count": null,
   "id": "ec6581eb",
   "metadata": {},
   "outputs": [],
   "source": []
  },
  {
   "cell_type": "markdown",
   "id": "5565ac05",
   "metadata": {},
   "source": [
    "Differences between Generator function and Normal function\n",
    "Here is how a generator function differs from a normal function.\n",
    "\n",
    "Generator function contains one or more yield statements.\n",
    "When called, it returns an object (iterator) but does not start execution immediately.\n",
    "Methods like __iter__() and __next__() are implemented automatically. So we can iterate through the items using next().\n",
    "Once the function yields, the function is paused and the control is transferred to the caller.\n",
    "Local variables and their states are remembered between successive calls.\n",
    "Finally, when the function terminates, StopIteration is raised automatically on further calls."
   ]
  },
  {
   "cell_type": "code",
   "execution_count": null,
   "id": "609549a1",
   "metadata": {},
   "outputs": [],
   "source": []
  },
  {
   "cell_type": "code",
   "execution_count": null,
   "id": "869e82ec",
   "metadata": {},
   "outputs": [],
   "source": []
  },
  {
   "cell_type": "code",
   "execution_count": 12,
   "id": "8c622671",
   "metadata": {},
   "outputs": [],
   "source": [
    "#1. Generators can be implemented in a clear and concise way as compared to their iterator class \n",
    "def PowTwoGen(max=0):\n",
    "    n = 0\n",
    "    while n < max:\n",
    "        yield 2 ** n\n",
    "        n += 1"
   ]
  },
  {
   "cell_type": "code",
   "execution_count": 19,
   "id": "3450a6cd",
   "metadata": {},
   "outputs": [
    {
     "data": {
      "text/plain": [
       "<generator object PowTwoGen at 0x7f9590011e40>"
      ]
     },
     "execution_count": 19,
     "metadata": {},
     "output_type": "execute_result"
    }
   ],
   "source": [
    "a=PowTwoGen(3)\n",
    "a"
   ]
  },
  {
   "cell_type": "code",
   "execution_count": 20,
   "id": "98d5faa4",
   "metadata": {},
   "outputs": [
    {
     "name": "stdout",
     "output_type": "stream",
     "text": [
      "1\n",
      "2\n",
      "4\n"
     ]
    },
    {
     "ename": "StopIteration",
     "evalue": "",
     "output_type": "error",
     "traceback": [
      "\u001b[0;31m---------------------------------------------------------------------------\u001b[0m",
      "\u001b[0;31mStopIteration\u001b[0m                             Traceback (most recent call last)",
      "\u001b[0;32m<ipython-input-20-5d9760d4b8fb>\u001b[0m in \u001b[0;36m<module>\u001b[0;34m\u001b[0m\n\u001b[1;32m      2\u001b[0m \u001b[0mprint\u001b[0m\u001b[0;34m(\u001b[0m\u001b[0mnext\u001b[0m\u001b[0;34m(\u001b[0m\u001b[0ma\u001b[0m\u001b[0;34m)\u001b[0m\u001b[0;34m)\u001b[0m\u001b[0;34m\u001b[0m\u001b[0;34m\u001b[0m\u001b[0m\n\u001b[1;32m      3\u001b[0m \u001b[0mprint\u001b[0m\u001b[0;34m(\u001b[0m\u001b[0mnext\u001b[0m\u001b[0;34m(\u001b[0m\u001b[0ma\u001b[0m\u001b[0;34m)\u001b[0m\u001b[0;34m)\u001b[0m\u001b[0;34m\u001b[0m\u001b[0;34m\u001b[0m\u001b[0m\n\u001b[0;32m----> 4\u001b[0;31m \u001b[0mprint\u001b[0m\u001b[0;34m(\u001b[0m\u001b[0mnext\u001b[0m\u001b[0;34m(\u001b[0m\u001b[0ma\u001b[0m\u001b[0;34m)\u001b[0m\u001b[0;34m)\u001b[0m\u001b[0;34m\u001b[0m\u001b[0;34m\u001b[0m\u001b[0m\n\u001b[0m",
      "\u001b[0;31mStopIteration\u001b[0m: "
     ]
    }
   ],
   "source": [
    "print(next(a))\n",
    "print(next(a))\n",
    "print(next(a))\n",
    "print(next(a))"
   ]
  },
  {
   "cell_type": "markdown",
   "id": "80dac939",
   "metadata": {},
   "source": [
    "#2. Memory Efficient\n",
    "A normal function to return a sequence will create the entire sequence in memory before returning the result. This is an overkill, if the number of items in the sequence is very large.\n",
    "\n",
    "Generator implementation of such sequences is memory friendly and is preferred since it only produces one item at a time."
   ]
  },
  {
   "cell_type": "markdown",
   "id": "d0a09ef6",
   "metadata": {},
   "source": [
    "#3. Represent Infinite Stream\n",
    "Generators are excellent mediums to represent an infinite stream of data. Infinite streams cannot be stored in memory, and since generators produce only one item at a time, they can represent an infinite stream of data.\n",
    "\n",
    "The following generator function can generate all the even numbers (at least in theory)."
   ]
  },
  {
   "cell_type": "code",
   "execution_count": 21,
   "id": "8e5ffcba",
   "metadata": {},
   "outputs": [],
   "source": [
    "def all_even():\n",
    "    n = 0\n",
    "    while True:\n",
    "        yield n\n",
    "        n += 2"
   ]
  },
  {
   "cell_type": "markdown",
   "id": "1669eb14",
   "metadata": {},
   "source": [
    "#4. Pipelining Generators:\n",
    "Multiple generators can be used to pipeline a series of operations. This is best illustrated using an example.\n",
    "\n",
    "Suppose we have a generator that produces the numbers in the Fibonacci series. And we have another generator for squaring numbers.\n",
    "\n",
    "If we want to find out the sum of squares of numbers in the Fibonacci series, we can do it in the following way by pipelining the output of generator functions together."
   ]
  },
  {
   "cell_type": "code",
   "execution_count": 22,
   "id": "542e3c96",
   "metadata": {},
   "outputs": [
    {
     "name": "stdout",
     "output_type": "stream",
     "text": [
      "4895\n"
     ]
    }
   ],
   "source": [
    "def fibonacci_numbers(nums):\n",
    "    x, y = 0, 1\n",
    "    for _ in range(nums):\n",
    "        x, y = y, x+y\n",
    "        yield x\n",
    "\n",
    "def square(nums):\n",
    "    for num in nums:\n",
    "        yield num**2\n",
    "\n",
    "print(sum(square(fibonacci_numbers(10))))"
   ]
  },
  {
   "cell_type": "markdown",
   "id": "a20f4bb0",
   "metadata": {},
   "source": [
    "### Python Generator Expression"
   ]
  },
  {
   "cell_type": "markdown",
   "id": "0afbf7b8",
   "metadata": {},
   "source": [
    "The major difference between a list comprehension and a generator expression is that a list comprehension produces the entire list while the generator expression produces one item at a time.\n",
    "\n",
    "They have lazy execution ( producing items only when asked for ). For this reason, a generator expression is much more memory efficient than an equivalent list comprehension."
   ]
  },
  {
   "cell_type": "code",
   "execution_count": 25,
   "id": "24d5006e",
   "metadata": {},
   "outputs": [
    {
     "name": "stdout",
     "output_type": "stream",
     "text": [
      "[1, 9, 36, 100]\n",
      "<generator object <genexpr> at 0x7f9590025f20>\n",
      "1\n",
      "9\n",
      "36\n"
     ]
    }
   ],
   "source": [
    "# Initialize the list\n",
    "my_list = [1, 3, 6, 10]\n",
    "\n",
    "# square each term using list comprehension\n",
    "list_ = [x**2 for x in my_list]\n",
    "\n",
    "# same thing can be done using a generator expression\n",
    "# generator expressions are surrounded by parenthesis ()\n",
    "generator = (x**2 for x in my_list)\n",
    "\n",
    "print(list_)\n",
    "print(generator)\n",
    "print(next(generator))\n",
    "print(next(generator))\n",
    "print(next(generator))"
   ]
  },
  {
   "cell_type": "code",
   "execution_count": null,
   "id": "1481068b",
   "metadata": {},
   "outputs": [],
   "source": []
  },
  {
   "cell_type": "code",
   "execution_count": 26,
   "id": "880524eb",
   "metadata": {},
   "outputs": [],
   "source": [
    "################################################################a"
   ]
  },
  {
   "cell_type": "code",
   "execution_count": null,
   "id": "b6fecc47",
   "metadata": {},
   "outputs": [],
   "source": []
  },
  {
   "cell_type": "markdown",
   "id": "f61a0e16",
   "metadata": {},
   "source": [
    "# 3. Python Closures"
   ]
  },
  {
   "cell_type": "code",
   "execution_count": 30,
   "id": "f7bf0d8d",
   "metadata": {},
   "outputs": [
    {
     "name": "stdout",
     "output_type": "stream",
     "text": [
      "Hello\n"
     ]
    }
   ],
   "source": [
    "'''The criteria that must be met to create closure in Python are summarized in the following points.\n",
    "\n",
    "1.We must have a nested function (function inside a function).\n",
    "2.The nested function must refer to a value defined in the enclosing function.\n",
    "3.The enclosing function must return the nested function.\n",
    "'''\n",
    "\n",
    "\n",
    "def print_msg(msg):\n",
    "    # This is the outer enclosing function\n",
    "\n",
    "    def printer():\n",
    "        # This is the nested function\n",
    "        print(msg)\n",
    "\n",
    "    return printer  # returns the nested function\n",
    "\n",
    "\n",
    "# Now let's try calling this function.\n",
    "# Output: Hello\n",
    "another = print_msg(\"Hello\")\n",
    "another()"
   ]
  },
  {
   "cell_type": "markdown",
   "id": "a8a05203",
   "metadata": {},
   "source": [
    "The print_msg() function was called with the string \"Hello\" and the returned function was bound to the name another. On calling another(), the message was still remembered although we had already finished executing the print_msg() function.\n",
    "\n",
    "This technique by which some data (\"Hello in this case) gets attached to the code is called closure in Python.\n",
    "\n",
    "This value in the enclosing scope is remembered even when the variable goes out of scope or the function itself is removed from the current namespace."
   ]
  },
  {
   "cell_type": "code",
   "execution_count": 31,
   "id": "01e66b8d",
   "metadata": {},
   "outputs": [
    {
     "name": "stdout",
     "output_type": "stream",
     "text": [
      "27\n",
      "15\n",
      "30\n"
     ]
    }
   ],
   "source": [
    "#Closures can avoid the use of global values and provides some form of data hiding. \n",
    "#It can also provide an object oriented solution to the problem.\n",
    "def make_multiplier_of(n):\n",
    "    def multiplier(x):\n",
    "        return x * n\n",
    "    return multiplier\n",
    "\n",
    "\n",
    "# Multiplier of 3\n",
    "times3 = make_multiplier_of(3)\n",
    "\n",
    "# Multiplier of 5\n",
    "times5 = make_multiplier_of(5)\n",
    "\n",
    "# Output: 27\n",
    "print(times3(9))\n",
    "\n",
    "# Output: 15\n",
    "print(times5(3))\n",
    "\n",
    "# Output: 30\n",
    "print(times5(times3(2)))"
   ]
  },
  {
   "cell_type": "code",
   "execution_count": null,
   "id": "ed4457e4",
   "metadata": {},
   "outputs": [],
   "source": []
  },
  {
   "cell_type": "markdown",
   "id": "a28d3029",
   "metadata": {},
   "source": [
    "# 4. Python Decorators"
   ]
  },
  {
   "cell_type": "markdown",
   "id": "d40363ef",
   "metadata": {},
   "source": [
    "#A decorator takes in a function, adds some functionality and returns it.\n",
    "\n",
    "#This is also called metaprogramming because a part of the program tries to modify another part of the program at compile time"
   ]
  },
  {
   "cell_type": "code",
   "execution_count": null,
   "id": "e9d8f51c",
   "metadata": {},
   "outputs": [],
   "source": []
  },
  {
   "cell_type": "code",
   "execution_count": 43,
   "id": "4fc4642e",
   "metadata": {},
   "outputs": [],
   "source": [
    "def make_pretty(func):\n",
    "    def inner():\n",
    "        print(\"I got decorated\")\n",
    "        func()\n",
    "    return inner\n",
    "\n",
    "def ordinary():\n",
    "    print(\"I am ordinary\")"
   ]
  },
  {
   "cell_type": "code",
   "execution_count": 44,
   "id": "3bfb04fb",
   "metadata": {},
   "outputs": [
    {
     "name": "stdout",
     "output_type": "stream",
     "text": [
      "I am ordinary\n"
     ]
    }
   ],
   "source": [
    "ordinary()"
   ]
  },
  {
   "cell_type": "code",
   "execution_count": 45,
   "id": "a3c2d8fc",
   "metadata": {},
   "outputs": [],
   "source": [
    "ordinary = make_pretty(ordinary)"
   ]
  },
  {
   "cell_type": "code",
   "execution_count": 46,
   "id": "806d1998",
   "metadata": {},
   "outputs": [
    {
     "name": "stdout",
     "output_type": "stream",
     "text": [
      "I got decorated\n",
      "I am ordinary\n"
     ]
    }
   ],
   "source": [
    "ordinary()"
   ]
  },
  {
   "cell_type": "code",
   "execution_count": 47,
   "id": "c87a2f0a",
   "metadata": {},
   "outputs": [],
   "source": [
    "@make_pretty\n",
    "def ordinary2():\n",
    "    print(\"I am ordinary\")"
   ]
  },
  {
   "cell_type": "code",
   "execution_count": 48,
   "id": "36b2c31a",
   "metadata": {},
   "outputs": [
    {
     "name": "stdout",
     "output_type": "stream",
     "text": [
      "I got decorated\n",
      "I am ordinary\n"
     ]
    }
   ],
   "source": [
    "ordinary2()"
   ]
  },
  {
   "cell_type": "code",
   "execution_count": null,
   "id": "c1bac0fa",
   "metadata": {},
   "outputs": [],
   "source": []
  },
  {
   "cell_type": "code",
   "execution_count": 49,
   "id": "e913ef1f",
   "metadata": {},
   "outputs": [],
   "source": [
    "def smart_divide(func):\n",
    "    def inner(a, b):\n",
    "        print(\"I am going to divide\", a, \"and\", b)\n",
    "        if b == 0:\n",
    "            print(\"Whoops! cannot divide\")\n",
    "            return\n",
    "\n",
    "        return func(a, b)\n",
    "    return inner\n",
    "\n",
    "\n",
    "@smart_divide\n",
    "def divide(a, b):\n",
    "    print(a/b)"
   ]
  },
  {
   "cell_type": "code",
   "execution_count": 50,
   "id": "c46dea97",
   "metadata": {},
   "outputs": [
    {
     "name": "stdout",
     "output_type": "stream",
     "text": [
      "I am going to divide 2 and 5\n",
      "0.4\n"
     ]
    }
   ],
   "source": [
    "divide(2,5)"
   ]
  },
  {
   "cell_type": "code",
   "execution_count": 51,
   "id": "e5e011e3",
   "metadata": {},
   "outputs": [
    {
     "name": "stdout",
     "output_type": "stream",
     "text": [
      "I am going to divide 2 and 0\n",
      "Whoops! cannot divide\n"
     ]
    }
   ],
   "source": [
    "divide(2,0)"
   ]
  },
  {
   "cell_type": "code",
   "execution_count": null,
   "id": "b20571d6",
   "metadata": {},
   "outputs": [],
   "source": []
  },
  {
   "cell_type": "code",
   "execution_count": null,
   "id": "7a776f3a",
   "metadata": {},
   "outputs": [],
   "source": [
    "########################################################"
   ]
  },
  {
   "cell_type": "code",
   "execution_count": null,
   "id": "8f075537",
   "metadata": {},
   "outputs": [],
   "source": []
  },
  {
   "cell_type": "markdown",
   "id": "e41e6165",
   "metadata": {},
   "source": [
    "# 5. Python @property decorator\n"
   ]
  },
  {
   "cell_type": "code",
   "execution_count": 52,
   "id": "946482c8",
   "metadata": {},
   "outputs": [],
   "source": [
    "#a pythonic way to use getters and setters in object-oriented programming."
   ]
  },
  {
   "cell_type": "code",
   "execution_count": null,
   "id": "aca6711e",
   "metadata": {},
   "outputs": [],
   "source": []
  },
  {
   "cell_type": "code",
   "execution_count": 53,
   "id": "ebfc7cc3",
   "metadata": {},
   "outputs": [
    {
     "name": "stdout",
     "output_type": "stream",
     "text": [
      "Setting value...\n",
      "Getting value...\n",
      "37\n",
      "Getting value...\n",
      "98.60000000000001\n",
      "Setting value...\n"
     ]
    },
    {
     "ename": "ValueError",
     "evalue": "Temperature below -273.15 is not possible",
     "output_type": "error",
     "traceback": [
      "\u001b[0;31m---------------------------------------------------------------------------\u001b[0m",
      "\u001b[0;31mValueError\u001b[0m                                Traceback (most recent call last)",
      "\u001b[0;32m<ipython-input-53-dd6f749658a4>\u001b[0m in \u001b[0;36m<module>\u001b[0;34m\u001b[0m\n\u001b[1;32m     29\u001b[0m \u001b[0mprint\u001b[0m\u001b[0;34m(\u001b[0m\u001b[0mhuman\u001b[0m\u001b[0;34m.\u001b[0m\u001b[0mto_fahrenheit\u001b[0m\u001b[0;34m(\u001b[0m\u001b[0;34m)\u001b[0m\u001b[0;34m)\u001b[0m\u001b[0;34m\u001b[0m\u001b[0;34m\u001b[0m\u001b[0m\n\u001b[1;32m     30\u001b[0m \u001b[0;34m\u001b[0m\u001b[0m\n\u001b[0;32m---> 31\u001b[0;31m \u001b[0mhuman\u001b[0m\u001b[0;34m.\u001b[0m\u001b[0mtemperature\u001b[0m \u001b[0;34m=\u001b[0m \u001b[0;34m-\u001b[0m\u001b[0;36m300\u001b[0m\u001b[0;34m\u001b[0m\u001b[0;34m\u001b[0m\u001b[0m\n\u001b[0m",
      "\u001b[0;32m<ipython-input-53-dd6f749658a4>\u001b[0m in \u001b[0;36mset_temperature\u001b[0;34m(self, value)\u001b[0m\n\u001b[1;32m     16\u001b[0m         \u001b[0mprint\u001b[0m\u001b[0;34m(\u001b[0m\u001b[0;34m\"Setting value...\"\u001b[0m\u001b[0;34m)\u001b[0m\u001b[0;34m\u001b[0m\u001b[0;34m\u001b[0m\u001b[0m\n\u001b[1;32m     17\u001b[0m         \u001b[0;32mif\u001b[0m \u001b[0mvalue\u001b[0m \u001b[0;34m<\u001b[0m \u001b[0;34m-\u001b[0m\u001b[0;36m273.15\u001b[0m\u001b[0;34m:\u001b[0m\u001b[0;34m\u001b[0m\u001b[0;34m\u001b[0m\u001b[0m\n\u001b[0;32m---> 18\u001b[0;31m             \u001b[0;32mraise\u001b[0m \u001b[0mValueError\u001b[0m\u001b[0;34m(\u001b[0m\u001b[0;34m\"Temperature below -273.15 is not possible\"\u001b[0m\u001b[0;34m)\u001b[0m\u001b[0;34m\u001b[0m\u001b[0;34m\u001b[0m\u001b[0m\n\u001b[0m\u001b[1;32m     19\u001b[0m         \u001b[0mself\u001b[0m\u001b[0;34m.\u001b[0m\u001b[0m_temperature\u001b[0m \u001b[0;34m=\u001b[0m \u001b[0mvalue\u001b[0m\u001b[0;34m\u001b[0m\u001b[0;34m\u001b[0m\u001b[0m\n\u001b[1;32m     20\u001b[0m \u001b[0;34m\u001b[0m\u001b[0m\n",
      "\u001b[0;31mValueError\u001b[0m: Temperature below -273.15 is not possible"
     ]
    }
   ],
   "source": [
    "# using property class\n",
    "class Celsius:\n",
    "    def __init__(self, temperature=0):\n",
    "        self.temperature = temperature\n",
    "\n",
    "    def to_fahrenheit(self):\n",
    "        return (self.temperature * 1.8) + 32\n",
    "\n",
    "    # getter\n",
    "    def get_temperature(self):\n",
    "        print(\"Getting value...\")\n",
    "        return self._temperature\n",
    "\n",
    "    # setter\n",
    "    def set_temperature(self, value):\n",
    "        print(\"Setting value...\")\n",
    "        if value < -273.15:\n",
    "            raise ValueError(\"Temperature below -273.15 is not possible\")\n",
    "        self._temperature = value\n",
    "\n",
    "    # creating a property object\n",
    "    temperature = property(get_temperature, set_temperature)\n",
    "\n",
    "\n",
    "human = Celsius(37)\n",
    "\n",
    "print(human.temperature)\n",
    "\n",
    "print(human.to_fahrenheit())\n",
    "\n",
    "human.temperature = -300"
   ]
  },
  {
   "cell_type": "markdown",
   "id": "c95cfb07",
   "metadata": {},
   "source": [
    "any code that retrieves the value of temperature will automatically call get_temperature() instead of a dictionary (__dict__) look-up. Similarly, any code that assigns a value to temperature will automatically call set_temperature().\n",
    "\n",
    "We can even see above that set_temperature() was called even when we created an object."
   ]
  },
  {
   "cell_type": "code",
   "execution_count": 27,
   "id": "3b832ec0",
   "metadata": {},
   "outputs": [],
   "source": [
    "#Source: Programiz"
   ]
  }
 ],
 "metadata": {
  "kernelspec": {
   "display_name": "Python 3",
   "language": "python",
   "name": "python3"
  },
  "language_info": {
   "codemirror_mode": {
    "name": "ipython",
    "version": 3
   },
   "file_extension": ".py",
   "mimetype": "text/x-python",
   "name": "python",
   "nbconvert_exporter": "python",
   "pygments_lexer": "ipython3",
   "version": "3.8.8"
  }
 },
 "nbformat": 4,
 "nbformat_minor": 5
}
