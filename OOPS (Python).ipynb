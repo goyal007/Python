{
 "cells": [
  {
   "cell_type": "markdown",
   "metadata": {},
   "source": [
    "## OOPS"
   ]
  },
  {
   "cell_type": "code",
   "execution_count": 1,
   "metadata": {},
   "outputs": [
    {
     "data": {
      "text/plain": [
       "'\\n1. One of the popular approaches to solve a programming problem is by creating objects\\n2. An object has two characteristics:\\n    attributes\\n    behavior\\n    \\nThe concept of OOP in Python focuses on creating reusable code\\n\\nA class is a blueprint for the object.\\nAn object (instance) is an instantiation of a class\\n\\nWhen class is defined, only the description for the object is defined. \\nTherefore, no memory or storage is allocated.\\n\\n\\n\\n\\n'"
      ]
     },
     "execution_count": 1,
     "metadata": {},
     "output_type": "execute_result"
    }
   ],
   "source": [
    "'''\n",
    "1. One of the popular approaches to solve a programming problem is by creating objects\n",
    "2. An object has two characteristics:\n",
    "    attributes\n",
    "    behavior\n",
    "    \n",
    "The concept of OOP in Python focuses on creating reusable code\n",
    "\n",
    "A class is a blueprint for the object.\n",
    "An object (instance) is an instantiation of a class\n",
    "\n",
    "When class is defined, only the description for the object is defined. \n",
    "Therefore, no memory or storage is allocated.\n",
    "\n",
    "\n",
    "\n",
    "\n",
    "'''"
   ]
  },
  {
   "cell_type": "code",
   "execution_count": 2,
   "metadata": {},
   "outputs": [
    {
     "name": "stdout",
     "output_type": "stream",
     "text": [
      "2\n",
      "in func and x is:  2\n"
     ]
    }
   ],
   "source": [
    "class className:\n",
    "    x=2\n",
    "    def f1(self):\n",
    "        print(\"in func and x is: \",className.x)\n",
    "obj1=className()\n",
    "print(obj1.x)\n",
    "obj1.f1()"
   ]
  },
  {
   "cell_type": "code",
   "execution_count": 3,
   "metadata": {},
   "outputs": [],
   "source": [
    "#This is because, whenever an object calls its method,\n",
    "#the object itself is passed as the first argument. \n",
    "#So, obj1.f1() translates into Person.f1(obj1)"
   ]
  },
  {
   "cell_type": "code",
   "execution_count": 4,
   "metadata": {},
   "outputs": [],
   "source": [
    "# self -> like pointers or this reference in java\n",
    "\n",
    "#Note: \n",
    "#The self parameter is a reference to the current instance of the class, \n",
    "#and is used to access variables that belong to the class."
   ]
  },
  {
   "cell_type": "code",
   "execution_count": null,
   "metadata": {},
   "outputs": [],
   "source": []
  },
  {
   "cell_type": "code",
   "execution_count": 5,
   "metadata": {},
   "outputs": [
    {
     "data": {
      "text/plain": [
       "'\\n1. implicit call\\n2. one time call per object creation\\n3. used to declare insatnce variable\\n4. one arg is must\\n'"
      ]
     },
     "execution_count": 5,
     "metadata": {},
     "output_type": "execute_result"
    }
   ],
   "source": [
    "#init: constructor\n",
    "'''\n",
    "1. implicit call\n",
    "2. one time call per object creation\n",
    "3. used to declare insatnce variable\n",
    "4. one arg is must\n",
    "'''"
   ]
  },
  {
   "cell_type": "code",
   "execution_count": 6,
   "metadata": {},
   "outputs": [],
   "source": [
    "#Example 1: Creating Class and Object in Python"
   ]
  },
  {
   "cell_type": "code",
   "execution_count": 7,
   "metadata": {},
   "outputs": [
    {
     "name": "stdout",
     "output_type": "stream",
     "text": [
      "A is a bird\n",
      "B is also a bird\n",
      "A is 10 years old\n",
      "B is 15 years old\n"
     ]
    }
   ],
   "source": [
    "class Parrot:\n",
    "\n",
    "    \n",
    "    species = \"bird\"\n",
    "\n",
    "    \n",
    "    def __init__(self, name, age): \n",
    "        self.name = name\n",
    "        self.age = age\n",
    "\n",
    "# the Parrot class\n",
    "blu = Parrot(\"A\", 10)\n",
    "woo = Parrot(\"B\", 15)\n",
    "\n",
    "\n",
    "#print(blu.species)\n",
    "print(\"A is a {}\".format(blu.__class__.species))\n",
    "print(\"B is also a {}\".format(woo.__class__.species))\n",
    "\n",
    "\n",
    "print(\"{} is {} years old\".format( blu.name, blu.age))\n",
    "print(\"{} is {} years old\".format( woo.name, woo.age))"
   ]
  },
  {
   "cell_type": "code",
   "execution_count": 8,
   "metadata": {},
   "outputs": [
    {
     "name": "stdout",
     "output_type": "stream",
     "text": [
      "Human\n",
      "36\n",
      "XYZ\n",
      "XYZ\n",
      "hi Human\n"
     ]
    }
   ],
   "source": [
    "class Person:\n",
    "    \n",
    "    # class attribute\n",
    "    company =\"XYZ\"\n",
    "    \n",
    "    # instance attribute\n",
    "    def __init__(self, name, age):  ##self default always #can also write x instead of self\n",
    "        #print(self)\n",
    "        self.name = name\n",
    "        self.age = age\n",
    "    def f2(self):\n",
    "        print(\"hi \"+self.name)\n",
    "    def printDetail(self):\n",
    "        print(\"age: \",self.age,\" name: \",self.name)\n",
    "        \n",
    "#instantiate \n",
    "p1 = Person(\"Human\", 36)\n",
    "p2 = Person(\"Rahul\",23)\n",
    "\n",
    "# access the instance attributes\n",
    "print(p1.name)\n",
    "print(p1.age)\n",
    "# access the class attributes\n",
    "print(p1.company)\n",
    "print(p1.__class__.company)\n",
    "p1.f2()"
   ]
  },
  {
   "cell_type": "code",
   "execution_count": 9,
   "metadata": {},
   "outputs": [
    {
     "data": {
      "text/plain": [
       "'\\nThese attributes are defined inside the __init__ method of the class. \\nIt is the initializer method that is first run as soon as the object is created.\\n\\nclass variable = same for all insatnces\\ninstance = diff for each instsnce\\n'"
      ]
     },
     "execution_count": 9,
     "metadata": {},
     "output_type": "execute_result"
    }
   ],
   "source": [
    "'''\n",
    "These attributes are defined inside the __init__ method of the class. \n",
    "It is the initializer method that is first run as soon as the object is created.\n",
    "\n",
    "class variable = same for all insatnces\n",
    "instance = diff for each instsnce\n",
    "'''"
   ]
  },
  {
   "cell_type": "code",
   "execution_count": 10,
   "metadata": {},
   "outputs": [],
   "source": [
    "#attributes of an object can be created on the fly"
   ]
  },
  {
   "cell_type": "code",
   "execution_count": 11,
   "metadata": {},
   "outputs": [],
   "source": [
    "p1.role=\"Data Scientist\""
   ]
  },
  {
   "cell_type": "code",
   "execution_count": 12,
   "metadata": {},
   "outputs": [
    {
     "data": {
      "text/plain": [
       "'Data Scientist'"
      ]
     },
     "execution_count": 12,
     "metadata": {},
     "output_type": "execute_result"
    }
   ],
   "source": [
    "p1.role"
   ]
  },
  {
   "cell_type": "code",
   "execution_count": 13,
   "metadata": {},
   "outputs": [
    {
     "ename": "AttributeError",
     "evalue": "'Person' object has no attribute 'role'",
     "output_type": "error",
     "traceback": [
      "\u001b[0;31m---------------------------------------------------------------------------\u001b[0m",
      "\u001b[0;31mAttributeError\u001b[0m                            Traceback (most recent call last)",
      "\u001b[0;32m<ipython-input-13-59752cbfb06a>\u001b[0m in \u001b[0;36m<module>\u001b[0;34m\u001b[0m\n\u001b[0;32m----> 1\u001b[0;31m \u001b[0mp2\u001b[0m\u001b[0;34m.\u001b[0m\u001b[0mrole\u001b[0m\u001b[0;34m\u001b[0m\u001b[0;34m\u001b[0m\u001b[0m\n\u001b[0m",
      "\u001b[0;31mAttributeError\u001b[0m: 'Person' object has no attribute 'role'"
     ]
    }
   ],
   "source": [
    "p2.role"
   ]
  },
  {
   "cell_type": "code",
   "execution_count": 14,
   "metadata": {},
   "outputs": [],
   "source": [
    "#p1.__dict__"
   ]
  },
  {
   "cell_type": "code",
   "execution_count": 15,
   "metadata": {},
   "outputs": [],
   "source": [
    "#delete attribute and object"
   ]
  },
  {
   "cell_type": "code",
   "execution_count": 16,
   "metadata": {},
   "outputs": [],
   "source": [
    "del p1.role"
   ]
  },
  {
   "cell_type": "code",
   "execution_count": 17,
   "metadata": {},
   "outputs": [],
   "source": [
    "del p1"
   ]
  },
  {
   "cell_type": "code",
   "execution_count": 18,
   "metadata": {},
   "outputs": [
    {
     "data": {
      "text/plain": [
       "'p1 = Person(\"Rahul\",23)\\n\\na new instance object is created in memory and the name p1 binds with it\\ndel p1\\n\\nthis binding is removed and the name c1 is deleted from the corresponding namespace. \\nThe object however continues to exist in memory \\nand if no other name is bound to it, it is later automatically destroyed.\\n\\nThis automatic destruction of unreferenced objects in Python is also called garbage collection.'"
      ]
     },
     "execution_count": 18,
     "metadata": {},
     "output_type": "execute_result"
    }
   ],
   "source": [
    "'''p1 = Person(\"Rahul\",23)\n",
    "\n",
    "a new instance object is created in memory and the name p1 binds with it\n",
    "del p1\n",
    "\n",
    "this binding is removed and the name c1 is deleted from the corresponding namespace. \n",
    "The object however continues to exist in memory \n",
    "and if no other name is bound to it, it is later automatically destroyed.\n",
    "\n",
    "This automatic destruction of unreferenced objects in Python is also called garbage collection.'''"
   ]
  },
  {
   "cell_type": "code",
   "execution_count": 19,
   "metadata": {},
   "outputs": [
    {
     "name": "stdout",
     "output_type": "stream",
     "text": [
      "1234 and 5678\n"
     ]
    }
   ],
   "source": [
    "#printing object\n",
    "\n",
    "class Test:\n",
    "\tdef __init__(self, a, b):\n",
    "\t\tself.a = a\n",
    "\t\tself.b = b\n",
    "\n",
    "\tdef __str__(self):\n",
    "\t\treturn str(self.a)+\" and \"+str(self.b)\n",
    "\n",
    "# Driver Code\t\t\n",
    "t = Test(1234, 5678)\n",
    "print(t) # This calls __str__()\n"
   ]
  },
  {
   "cell_type": "code",
   "execution_count": 20,
   "metadata": {},
   "outputs": [],
   "source": [
    "#empty class\n",
    "\n",
    "class Temp:\n",
    "    pass"
   ]
  },
  {
   "cell_type": "markdown",
   "metadata": {},
   "source": [
    "## Inheritenace"
   ]
  },
  {
   "cell_type": "code",
   "execution_count": 21,
   "metadata": {},
   "outputs": [
    {
     "data": {
      "text/plain": [
       "'\\nInheritance enables us to define a class that takes all the functionality from a parent class and allows us to add more. \\n\\nclass BaseClass:\\n  Body of base class\\nclass DerivedClass(BaseClass):\\n  Body of derived class\\n\\n'"
      ]
     },
     "execution_count": 21,
     "metadata": {},
     "output_type": "execute_result"
    }
   ],
   "source": [
    "'''\n",
    "Inheritance enables us to define a class that takes all the functionality from a parent class and allows us to add more. \n",
    "\n",
    "class BaseClass:\n",
    "  Body of base class\n",
    "class DerivedClass(BaseClass):\n",
    "  Body of derived class\n",
    "\n",
    "'''"
   ]
  },
  {
   "cell_type": "code",
   "execution_count": 22,
   "metadata": {},
   "outputs": [],
   "source": [
    "class Polygon:\n",
    "    def __init__(self, no_of_sides):\n",
    "        self.n = no_of_sides\n",
    "        self.sides = [0 for i in range(no_of_sides)]\n",
    "\n",
    "    def inputSides(self):\n",
    "        self.sides = [float(input(\"Enter side \"+str(i+1)+\" : \")) for i in range(self.n)]\n",
    "\n",
    "    def dispSides(self):\n",
    "        for i in range(self.n):\n",
    "            print(\"Side\",i+1,\"is\",self.sides[i])\n",
    "    \n",
    "    def Greet(self):\n",
    "        print(\"Hi\")"
   ]
  },
  {
   "cell_type": "code",
   "execution_count": 23,
   "metadata": {},
   "outputs": [],
   "source": [
    "class Triangle(Polygon):\n",
    "    def __init__(self):\n",
    "        #Polygon.__init__(self,3)\n",
    "        super().__init__(3)\n",
    "\n",
    "    def findArea(self):\n",
    "        a, b, c = self.sides\n",
    "        # calculate the semi-perimeter\n",
    "        s = (a + b + c) / 2\n",
    "        area = (s*(s-a)*(s-b)*(s-c)) ** 0.5\n",
    "        print('The area of the triangle is %0.3f' %area)\n",
    "        \n",
    "    def Greet(self):\n",
    "        print(\"Hello\")"
   ]
  },
  {
   "cell_type": "code",
   "execution_count": 24,
   "metadata": {},
   "outputs": [],
   "source": [
    "t = Triangle()"
   ]
  },
  {
   "cell_type": "code",
   "execution_count": 26,
   "metadata": {},
   "outputs": [
    {
     "name": "stdout",
     "output_type": "stream",
     "text": [
      "Enter side 1 : 3\n",
      "Enter side 2 : 4\n",
      "Enter side 3 : 5\n"
     ]
    }
   ],
   "source": [
    "t.inputSides()"
   ]
  },
  {
   "cell_type": "code",
   "execution_count": 27,
   "metadata": {},
   "outputs": [
    {
     "name": "stdout",
     "output_type": "stream",
     "text": [
      "Side 1 is 3.0\n",
      "Side 2 is 4.0\n",
      "Side 3 is 5.0\n"
     ]
    }
   ],
   "source": [
    "t.dispSides()"
   ]
  },
  {
   "cell_type": "code",
   "execution_count": 28,
   "metadata": {},
   "outputs": [
    {
     "name": "stdout",
     "output_type": "stream",
     "text": [
      "The area of the triangle is 6.000\n"
     ]
    }
   ],
   "source": [
    "t.findArea()"
   ]
  },
  {
   "cell_type": "code",
   "execution_count": 29,
   "metadata": {},
   "outputs": [
    {
     "name": "stdout",
     "output_type": "stream",
     "text": [
      "Hello\n"
     ]
    }
   ],
   "source": [
    "t.Greet()"
   ]
  },
  {
   "cell_type": "code",
   "execution_count": 30,
   "metadata": {},
   "outputs": [],
   "source": [
    "#If an attribute is not found in the class itself, the search continues to the base class.\n",
    "#This repeats recursively, \n",
    "#if the base class is itself derived from other classes."
   ]
  },
  {
   "cell_type": "code",
   "execution_count": 31,
   "metadata": {},
   "outputs": [
    {
     "data": {
      "text/plain": [
       "[3.0, 4.0, 5.0]"
      ]
     },
     "execution_count": 31,
     "metadata": {},
     "output_type": "execute_result"
    }
   ],
   "source": [
    "t.sides"
   ]
  },
  {
   "cell_type": "code",
   "execution_count": 32,
   "metadata": {},
   "outputs": [
    {
     "name": "stdout",
     "output_type": "stream",
     "text": [
      "True\n",
      "True\n",
      "False\n",
      "True\n"
     ]
    }
   ],
   "source": [
    "#The function isinstance() returns True if the object is an instance of the class \n",
    "#or other classes derived from it. \n",
    "#Each and every class in Python inherits from the base class object\n",
    "print(isinstance(t,Triangle))\n",
    "print(isinstance(t,Polygon))\n",
    "print(isinstance(t,int))\n",
    "print(isinstance(t,object))"
   ]
  },
  {
   "cell_type": "code",
   "execution_count": 33,
   "metadata": {},
   "outputs": [
    {
     "name": "stdout",
     "output_type": "stream",
     "text": [
      "False\n",
      "True\n",
      "True\n"
     ]
    }
   ],
   "source": [
    "print(issubclass(Polygon,Triangle))\n",
    "print(issubclass(Triangle,Polygon))\n",
    "print(issubclass(bool,int))"
   ]
  },
  {
   "cell_type": "markdown",
   "metadata": {},
   "source": [
    "## Multiple Inheritence"
   ]
  },
  {
   "cell_type": "code",
   "execution_count": 34,
   "metadata": {},
   "outputs": [
    {
     "name": "stdout",
     "output_type": "stream",
     "text": [
      "Base1\n",
      "Base2\n",
      "Derived\n",
      "str1 str2\n",
      "Base2\n"
     ]
    }
   ],
   "source": [
    "# Python example to show working of multiple\n",
    "# inheritance\n",
    "class Base1(object):\n",
    "    def __init__(self):\n",
    "        self.str1 = \"str1\"\n",
    "        print (\"Base1\")\n",
    "    def f2(self):\n",
    "        print(\"Base1\")\n",
    "\n",
    "class Base2(object):\n",
    "    def __init__(self):\n",
    "        self.str2 = \"str2\"\n",
    "        print (\"Base2\")\n",
    "    def f1(self):\n",
    "        print(\"Base2\")\n",
    "\n",
    "class Derived(Base1, Base2):\n",
    "    def __init__(self):\n",
    "\n",
    "        # Calling constructors of Base1\n",
    "        # and Base2 classes\n",
    "        Base1.__init__(self)\n",
    "        Base2.__init__(self)\n",
    "        print (\"Derived\")\n",
    "    \n",
    "    def printStrs(self):\n",
    "        print(self.str1, self.str2)\n",
    "        \n",
    "\n",
    "ob = Derived()\n",
    "ob.printStrs()\n",
    "ob.f1()\n"
   ]
  },
  {
   "cell_type": "code",
   "execution_count": 35,
   "metadata": {},
   "outputs": [
    {
     "data": {
      "text/plain": [
       "(__main__.Derived, __main__.Base1, __main__.Base2, object)"
      ]
     },
     "execution_count": 35,
     "metadata": {},
     "output_type": "execute_result"
    }
   ],
   "source": [
    "#Method Resolution Order (MRO).\n",
    "Derived.__mro__"
   ]
  },
  {
   "cell_type": "code",
   "execution_count": 36,
   "metadata": {},
   "outputs": [
    {
     "data": {
      "text/plain": [
       "'\\nIn the multiple inheritance scenario, any specified attribute is searched first in the current class. \\nIf not found, the search continues into parent classes in depth-first, \\nleft-right fashion without searching the same class twice.\\n'"
      ]
     },
     "execution_count": 36,
     "metadata": {},
     "output_type": "execute_result"
    }
   ],
   "source": [
    "'''\n",
    "In the multiple inheritance scenario, any specified attribute is searched first in the current class. \n",
    "If not found, the search continues into parent classes in depth-first, \n",
    "left-right fashion without searching the same class twice.\n",
    "'''"
   ]
  },
  {
   "cell_type": "markdown",
   "metadata": {},
   "source": [
    "## #Data Hiding - Data Encapsulation"
   ]
  },
  {
   "cell_type": "code",
   "execution_count": 37,
   "metadata": {},
   "outputs": [
    {
     "name": "stdout",
     "output_type": "stream",
     "text": [
      "2 3\n",
      "7 4\n"
     ]
    },
    {
     "ename": "AttributeError",
     "evalue": "'MyClass' object has no attribute '__hiddenVariable'",
     "output_type": "error",
     "traceback": [
      "\u001b[0;31m---------------------------------------------------------------------------\u001b[0m",
      "\u001b[0;31mAttributeError\u001b[0m                            Traceback (most recent call last)",
      "\u001b[0;32m<ipython-input-37-1ca3186e8af6>\u001b[0m in \u001b[0;36m<module>\u001b[0;34m\u001b[0m\n\u001b[1;32m     21\u001b[0m \u001b[0;34m\u001b[0m\u001b[0m\n\u001b[1;32m     22\u001b[0m \u001b[0;31m# This line causes error\u001b[0m\u001b[0;34m\u001b[0m\u001b[0;34m\u001b[0m\u001b[0;34m\u001b[0m\u001b[0m\n\u001b[0;32m---> 23\u001b[0;31m \u001b[0mprint\u001b[0m \u001b[0;34m(\u001b[0m\u001b[0mmyObject\u001b[0m\u001b[0;34m.\u001b[0m\u001b[0m__hiddenVariable\u001b[0m\u001b[0;34m)\u001b[0m\u001b[0;34m\u001b[0m\u001b[0;34m\u001b[0m\u001b[0m\n\u001b[0m",
      "\u001b[0;31mAttributeError\u001b[0m: 'MyClass' object has no attribute '__hiddenVariable'"
     ]
    }
   ],
   "source": [
    "\n",
    "class MyClass:\n",
    "\n",
    "\t# Hidden member of MyClass\n",
    "    __hiddenVariable = 0\n",
    "    a=2\n",
    "    \n",
    "    def __init__(self):\n",
    "        __a1=2\n",
    "    \n",
    "    # A member method that changes\n",
    "    # __hiddenVariable\n",
    "    def add(self, increment):\n",
    "        self.__hiddenVariable += increment\n",
    "        MyClass.a+=1\n",
    "        print (self.__hiddenVariable,MyClass.a)\n",
    "\n",
    "# Driver code\n",
    "myObject = MyClass()\t\n",
    "myObject.add(2)\n",
    "myObject.add(5)\n",
    "\n",
    "# This line causes error\n",
    "print (myObject.__hiddenVariable)"
   ]
  },
  {
   "cell_type": "code",
   "execution_count": 38,
   "metadata": {},
   "outputs": [
    {
     "name": "stdout",
     "output_type": "stream",
     "text": [
      "7\n"
     ]
    }
   ],
   "source": [
    "print(myObject._MyClass__hiddenVariable)"
   ]
  },
  {
   "cell_type": "code",
   "execution_count": 39,
   "metadata": {},
   "outputs": [
    {
     "name": "stdout",
     "output_type": "stream",
     "text": [
      "2 5\n"
     ]
    }
   ],
   "source": [
    "myObject1 = MyClass()\n",
    "myObject1.add(2)"
   ]
  },
  {
   "cell_type": "markdown",
   "metadata": {},
   "source": [
    "## Polymorphism"
   ]
  },
  {
   "cell_type": "code",
   "execution_count": 40,
   "metadata": {},
   "outputs": [],
   "source": [
    "#Polymorphism is an ability (in OOP) to use a common interface for multiple forms (data types).\n",
    "\n",
    "#Suppose, we need to color a shape, there are multiple shape options (rectangle, square, circle). \n",
    "#However we could use the same method to color any shape. This concept is called Polymorphism."
   ]
  },
  {
   "cell_type": "code",
   "execution_count": 41,
   "metadata": {},
   "outputs": [
    {
     "name": "stdout",
     "output_type": "stream",
     "text": [
      "A-f1\n",
      "A-f2\n",
      "A-f3\n",
      "B-f1\n",
      "B-f2\n",
      "B-f3\n"
     ]
    }
   ],
   "source": [
    "class A():\n",
    "\tdef f1(self):\n",
    "\t\tprint(\"A-f1\")\n",
    "\n",
    "\tdef f2(self):\n",
    "\t\tprint(\"A-f2\")\n",
    "\n",
    "\tdef f3(self):\n",
    "\t\tprint(\"A-f3\")\n",
    "\n",
    "class B():\n",
    "\tdef f1(self):\n",
    "\t\tprint(\"B-f1\")\n",
    "\n",
    "\tdef f2(self):\n",
    "\t\tprint(\"B-f2\")\n",
    "\n",
    "\tdef f3(self):\n",
    "\t\tprint(\"B-f3\")\n",
    "\n",
    "obj_A = A()\n",
    "obj_B = B()\n",
    "for country in (obj_A, obj_B):\n",
    "\tcountry.f1()\n",
    "\tcountry.f2()\n",
    "\tcountry.f3()\n"
   ]
  },
  {
   "cell_type": "code",
   "execution_count": 42,
   "metadata": {},
   "outputs": [
    {
     "name": "stdout",
     "output_type": "stream",
     "text": [
      "There are many types of transport.\n",
      "Most of the transport is on roads\n",
      "There are many types of transport.\n",
      "Plane can fly.\n",
      "There are many types of transport.\n",
      "Car cannot fly.\n"
     ]
    }
   ],
   "source": [
    "#Polymorphism with Inheritance:\n",
    "\n",
    "#method overriding\n",
    "class Transport:\n",
    "    def intro(self):\n",
    "        print(\"There are many types of transport.\")\n",
    "\t\n",
    "    def flight(self):\n",
    "        print(\"Most of the transport is on roads\")\n",
    "\t\n",
    "class Plane(Transport):\n",
    "    def flight(self):\n",
    "        print(\"Plane can fly.\")\n",
    "\t\n",
    "class Car(Transport):\n",
    "    def flight(self):\n",
    "        print(\"Car cannot fly.\")\n",
    "\n",
    "obj_transport = Transport()\n",
    "obj_plane = Plane()\n",
    "obj_car = Car()\n",
    "\n",
    "obj_transport.intro()\n",
    "obj_transport.flight()\n",
    "\n",
    "obj_plane.intro()\n",
    "obj_plane.flight()\n",
    "\n",
    "obj_car.intro()\n",
    "obj_car.flight()"
   ]
  },
  {
   "cell_type": "markdown",
   "metadata": {},
   "source": [
    "## #no method overloading, use latest defination\n"
   ]
  },
  {
   "cell_type": "code",
   "execution_count": 43,
   "metadata": {},
   "outputs": [
    {
     "data": {
      "text/plain": [
       "'class A:\\n    def __init__(self):\\n        self.a=2\\n    def f1(self):\\n        print(\"f0\")\\n    def f1(self,a):\\n        print(\"f1\")\\n    def f1(self,a,b):\\n        print(\"f2\")\\n    \\na=A()\\na.f1()\\na.f1(2)\\na.f1(1,2)'"
      ]
     },
     "execution_count": 43,
     "metadata": {},
     "output_type": "execute_result"
    }
   ],
   "source": [
    "'''class A:\n",
    "    def __init__(self):\n",
    "        self.a=2\n",
    "    def f1(self):\n",
    "        print(\"f0\")\n",
    "    def f1(self,a):\n",
    "        print(\"f1\")\n",
    "    def f1(self,a,b):\n",
    "        print(\"f2\")\n",
    "    \n",
    "a=A()\n",
    "a.f1()\n",
    "a.f1(2)\n",
    "a.f1(1,2)'''"
   ]
  },
  {
   "cell_type": "markdown",
   "metadata": {},
   "source": [
    "## Python Operator Overloading\n"
   ]
  },
  {
   "cell_type": "code",
   "execution_count": 44,
   "metadata": {},
   "outputs": [
    {
     "name": "stdout",
     "output_type": "stream",
     "text": [
      "(3,5)\n"
     ]
    }
   ],
   "source": [
    "class Point:\n",
    "    def __init__(self, x=0, y=0):\n",
    "        self.x = x\n",
    "        self.y = y\n",
    "\n",
    "    def __str__(self):\n",
    "        return \"({0},{1})\".format(self.x, self.y)\n",
    "\n",
    "    def __add__(self, other):\n",
    "        x = self.x + other.x\n",
    "        y = self.y + other.y\n",
    "        return Point(x, y)\n",
    "\n",
    "\n",
    "p1 = Point(1, 2)\n",
    "p2 = Point(2, 3)\n",
    "\n",
    "print(p1+p2)"
   ]
  },
  {
   "cell_type": "code",
   "execution_count": 45,
   "metadata": {},
   "outputs": [],
   "source": [
    "##overload comparison operator:"
   ]
  },
  {
   "cell_type": "code",
   "execution_count": 46,
   "metadata": {},
   "outputs": [
    {
     "name": "stdout",
     "output_type": "stream",
     "text": [
      "True\n",
      "False\n",
      "False\n"
     ]
    }
   ],
   "source": [
    "# overloading the less than operator\n",
    "class Point:\n",
    "    def __init__(self, x=0, y=0):\n",
    "        self.x = x\n",
    "        self.y = y\n",
    "\n",
    "    def __str__(self):\n",
    "        return \"({0},{1})\".format(self.x, self.y)\n",
    "\n",
    "    def __lt__(self, other):\n",
    "        self_mag = (self.x ** 2) + (self.y ** 2)\n",
    "        other_mag = (other.x ** 2) + (other.y ** 2)\n",
    "        return self_mag < other_mag\n",
    "\n",
    "p1 = Point(1,1)\n",
    "p2 = Point(-2,-3)\n",
    "p3 = Point(1,-1)\n",
    "\n",
    "# use less than\n",
    "print(p1<p2)\n",
    "print(p2<p3)\n",
    "print(p1<p3)"
   ]
  },
  {
   "cell_type": "code",
   "execution_count": null,
   "metadata": {},
   "outputs": [],
   "source": []
  }
 ],
 "metadata": {
  "kernelspec": {
   "display_name": "Python 3",
   "language": "python",
   "name": "python3"
  },
  "language_info": {
   "codemirror_mode": {
    "name": "ipython",
    "version": 3
   },
   "file_extension": ".py",
   "mimetype": "text/x-python",
   "name": "python",
   "nbconvert_exporter": "python",
   "pygments_lexer": "ipython3",
   "version": "3.8.8"
  }
 },
 "nbformat": 4,
 "nbformat_minor": 4
}
